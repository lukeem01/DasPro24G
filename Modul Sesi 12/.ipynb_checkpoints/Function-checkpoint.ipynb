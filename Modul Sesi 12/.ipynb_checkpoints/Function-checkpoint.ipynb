{
 "cells": [
  {
   "cell_type": "code",
   "execution_count": 2,
   "id": "fce40343-d3c2-44d1-b510-d54f034befbc",
   "metadata": {},
   "outputs": [
    {
     "name": "stdout",
     "output_type": "stream",
     "text": [
      "2025-05-31\n",
      "today is weekend\n"
     ]
    }
   ],
   "source": [
    "import datetime\n",
    "def showDate():\n",
    "    today = datetime.date.today()\n",
    "    print(today)\n",
    "showDate()\n",
    "def isWeekday():\n",
    "    day=datetime.date.today().weekday()\n",
    "    if day >=5:\n",
    "        print(\"today is weekend\") \n",
    "    else:\n",
    "        print(\"today is weekday\")\n",
    "    \n",
    "\n",
    "isWeekday()"
   ]
  },
  {
   "cell_type": "code",
   "execution_count": 4,
   "id": "5ef5f72f-3c4b-485c-89c7-563318663095",
   "metadata": {},
   "outputs": [
    {
     "name": "stdout",
     "output_type": "stream",
     "text": [
      "2025-05-31\n"
     ]
    }
   ],
   "source": [
    "showDate()"
   ]
  },
  {
   "cell_type": "code",
   "execution_count": 8,
   "id": "a1949e29-726f-4464-b38c-55893d93d738",
   "metadata": {},
   "outputs": [
    {
     "name": "stdout",
     "output_type": "stream",
     "text": [
      "LuqmanulHakim , S.Kom\n"
     ]
    }
   ],
   "source": [
    "# Function menggunakan parameter\n",
    "def getFullName (firts,middle,last):\n",
    "    return f\"{firts}{middle}{last}, S.Kom\"\n",
    "print (getFullName(\"Luqmanul\",\"Hakim\",\" \"))"
   ]
  },
  {
   "cell_type": "code",
   "execution_count": 14,
   "id": "b156ca90-18b9-4cd8-8d30-de6ae8ed7c1f",
   "metadata": {},
   "outputs": [
    {
     "name": "stdout",
     "output_type": "stream",
     "text": [
      "45\n",
      "500\n",
      "5 + 4 = 9\n"
     ]
    }
   ],
   "source": [
    "def add(num1,num2):\n",
    "    return num1+num2\n",
    "    print(\"tidak diprint\")\n",
    "def multiply(num1,num2):\n",
    "    return num1*num2\n",
    "\n",
    "def aritmathic(num1,num2):\n",
    "    add = num1+num2\n",
    "    multiply = num1*num2\n",
    "    return add,multiply\n",
    "\n",
    "jumlah,kali = aritmathic(20,25)\n",
    "print(jumlah)\n",
    "print(kali)\n",
    "penjumlahan =add(2,3)\n",
    "perkalian=multiply(2,2)\n",
    "print(penjumlahan ,\"+\", perkalian, \"=\", penjumlahan+perkalian)"
   ]
  },
  {
   "cell_type": "code",
   "execution_count": 18,
   "id": "c7f3728e-ad46-4e22-9876-e5fc023017f8",
   "metadata": {},
   "outputs": [
    {
     "name": "stdout",
     "output_type": "stream",
     "text": [
      "Registration is successfull \n",
      "Username: lukeem\n",
      "Password: mangmanoo012\n",
      "Status: False\n",
      "Role: aku raja\n"
     ]
    }
   ],
   "source": [
    "#function menggunakan nilai default\n",
    "def userReg(username,password,status=False,role=\"hyper\"):\n",
    "    result= \"Registration is successfull \\n\"\n",
    "    result+= f\"Username: {username}\\n\"\n",
    "    result+= f\"Password: {password}\\n\"\n",
    "    result+= f\"Status: {status}\\n\"\n",
    "    result+=f\"Role: {role}\"\n",
    "    return result\n",
    "\n",
    "print(userReg(\"lukeem\",\"mangmanoo012\",role=\"aku raja\"))"
   ]
  },
  {
   "cell_type": "code",
   "execution_count": 22,
   "id": "c78c1947-16d2-4b4e-8a57-c20ec7d94ef4",
   "metadata": {},
   "outputs": [
    {
     "name": "stdout",
     "output_type": "stream",
     "text": [
      "('mon', 'tue', 'wed')\n",
      "{'name': 'lukeem', 'birth': '31/01/2004'}\n",
      "lukeem\n",
      "31/01/2004\n"
     ]
    }
   ],
   "source": [
    "# *=argument\n",
    "# ** = keyword argument\n",
    "\n",
    "def printData(*arg,**kwarg):\n",
    "    return arg,kwarg\n",
    "\n",
    "arg,kwarg = printData(\"mon\",\"tue\",\"wed\",name=\"lukeem\",birth=\"31/01/2004\")\n",
    "print(arg)\n",
    "print(kwarg)\n",
    "\n",
    "for i in kwarg.items():\n",
    "    print(i[1])"
   ]
  },
  {
   "cell_type": "code",
   "execution_count": 24,
   "id": "f6b1c926-cfc7-487a-a4bf-17ebaf39fa0d",
   "metadata": {},
   "outputs": [
    {
     "name": "stdout",
     "output_type": "stream",
     "text": [
      "15\n",
      "120\n"
     ]
    }
   ],
   "source": [
    "def aritmathic(*arg,**kwarg):\n",
    "    if kwarg[\"oper\"]== \"+\":\n",
    "        add=0\n",
    "        for i in arg:\n",
    "           add+=i\n",
    "        return add\n",
    "    elif kwarg[\"oper\"]==\"*\" : \n",
    "        multiply=1\n",
    "        for i in arg:\n",
    "            multiply*=i\n",
    "        return multiply\n",
    "print(aritmathic(1,2,3,4,5,oper=\"+\"))\n",
    "print(aritmathic(1,2,3,4,5,oper=\"*\"))"
   ]
  },
  {
   "cell_type": "code",
   "execution_count": null,
   "id": "046a2907-417a-431c-b59f-179979ee230f",
   "metadata": {},
   "outputs": [],
   "source": []
  }
 ],
 "metadata": {
  "kernelspec": {
   "display_name": "Python [conda env:base] *",
   "language": "python",
   "name": "conda-base-py"
  },
  "language_info": {
   "codemirror_mode": {
    "name": "ipython",
    "version": 3
   },
   "file_extension": ".py",
   "mimetype": "text/x-python",
   "name": "python",
   "nbconvert_exporter": "python",
   "pygments_lexer": "ipython3",
   "version": "3.12.7"
  }
 },
 "nbformat": 4,
 "nbformat_minor": 5
}
