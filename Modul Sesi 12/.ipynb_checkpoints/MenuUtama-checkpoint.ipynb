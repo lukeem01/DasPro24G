{
 "cells": [
  {
   "cell_type": "code",
   "execution_count": 9,
   "id": "13268c7e-38ca-4ab3-815f-c3e8740533a5",
   "metadata": {},
   "outputs": [],
   "source": [
    "import aritmatika.math as math\n",
    "import konversi.cnv as cnv\n",
    "import ubil.ubdec as ubdec"
   ]
  },
  {
   "cell_type": "code",
   "execution_count": 13,
   "id": "0df854d5-9424-466d-b8ed-46acd015ca8f",
   "metadata": {},
   "outputs": [
    {
     "name": "stdin",
     "output_type": "stream",
     "text": [
      "Angka ke-1:  3\n",
      "Angka ke-2:  4\n"
     ]
    },
    {
     "name": "stdout",
     "output_type": "stream",
     "text": [
      "3 + 4 : 7\n",
      "3 * 4 : 12\n",
      "3 ^ 4 : 81\n"
     ]
    },
    {
     "name": "stdin",
     "output_type": "stream",
     "text": [
      "Panjang(cm):  3\n"
     ]
    },
    {
     "name": "stdout",
     "output_type": "stream",
     "text": [
      "3CM = 0.03 M\n"
     ]
    }
   ],
   "source": [
    "num1 = int(input(\"Angka ke-1: \"))\n",
    "num2 = int(input(\"Angka ke-2: \"))\n",
    "r1 = math.add(num1,num2)\n",
    "r2 = math.multiply(num1,num2)\n",
    "r3 = math.pow(num1,num2)\n",
    "\n",
    "print(f\"{num1} + {num2} : {r1}\")\n",
    "print(f\"{num1} * {num2} : {r2}\")\n",
    "print(f\"{num1} ^ {num2} : {r3}\")\n",
    "\n",
    "panjang =  int(input(\"Panjang(cm): \"))\n",
    "hasil = cnv.CmtoMeter(panjang)\n",
    "print(f\"{panjang}CM = {hasil} M\")\n"
   ]
  },
  {
   "cell_type": "code",
   "execution_count": 17,
   "id": "b27e92f5-ca1d-4aeb-930b-924b5082e14b",
   "metadata": {},
   "outputs": [],
   "source": [
    "def MenuUtama():\n",
    "    print(\"\"\"\n",
    "    1. Aritmatika\n",
    "    2. Konversi\n",
    "    3. Ubah Decimal\n",
    "    4. Keluar\n",
    "    \"\"\")\n",
    "\n",
    "def MenuAritmatika():\n",
    "    print(\"\"\"\n",
    "    1. Tambah\n",
    "    2. Kali\n",
    "    3. Pangkat\n",
    "    4. Kembali\n",
    "    \"\"\")\n",
    "    return int(input(\" Pilih Operasi Aritmatika: \"))\n",
    "\n",
    "def MenuKonversi():\n",
    "    print(\"\"\"\n",
    "    1. Centi Meter to Meter\n",
    "    2. Meter to Centi Meter\n",
    "    3. Kembali\n",
    "    \"\"\")\n",
    "    return int(input(\" Pilih Konversi: \"))\n",
    "\n",
    "def MenuUbahDecimal():\n",
    "    print(\"\"\"\n",
    "    1. Decimal to Biner\n",
    "    2. Decimal to Octal\n",
    "    3. Decimal to HexaDecimal\n",
    "    \"\"\")\n",
    "    return int(input(\" Pilih Konversi Decimal: \"))"
   ]
  },
  {
   "cell_type": "code",
   "execution_count": 23,
   "id": "ca2e6967-084d-4dfb-bb89-f2a609c492cc",
   "metadata": {},
   "outputs": [
    {
     "name": "stdout",
     "output_type": "stream",
     "text": [
      "\n",
      "    1. Aritmatika\n",
      "    2. Konversi\n",
      "    3. Ubah Decimal\n",
      "    4. Keluar\n",
      "    \n"
     ]
    },
    {
     "name": "stdin",
     "output_type": "stream",
     "text": [
      "Pilih dengan Angka:  1\n"
     ]
    },
    {
     "name": "stdout",
     "output_type": "stream",
     "text": [
      "\n",
      "    1. Tambah\n",
      "    2. Kali\n",
      "    3. Pangkat\n",
      "    4. Kembali\n",
      "    \n"
     ]
    },
    {
     "name": "stdin",
     "output_type": "stream",
     "text": [
      " Pilih Operasi Aritmatika:  1\n",
      "Masukan Angka Pertama:  2\n",
      "Masukan Angka Kedua:  3\n"
     ]
    },
    {
     "name": "stdout",
     "output_type": "stream",
     "text": [
      "Hasil:  5\n",
      "\n",
      "    1. Aritmatika\n",
      "    2. Konversi\n",
      "    3. Ubah Decimal\n",
      "    4. Keluar\n",
      "    \n"
     ]
    },
    {
     "name": "stdin",
     "output_type": "stream",
     "text": [
      "Pilih dengan Angka:  1\n"
     ]
    },
    {
     "name": "stdout",
     "output_type": "stream",
     "text": [
      "\n",
      "    1. Tambah\n",
      "    2. Kali\n",
      "    3. Pangkat\n",
      "    4. Kembali\n",
      "    \n"
     ]
    },
    {
     "name": "stdin",
     "output_type": "stream",
     "text": [
      " Pilih Operasi Aritmatika:  2\n",
      "Masukan Angka Pertama:  3\n",
      "Masukan Angka Kedua:  2\n"
     ]
    },
    {
     "name": "stdout",
     "output_type": "stream",
     "text": [
      "Hasil:  6\n",
      "\n",
      "    1. Aritmatika\n",
      "    2. Konversi\n",
      "    3. Ubah Decimal\n",
      "    4. Keluar\n",
      "    \n"
     ]
    },
    {
     "name": "stdin",
     "output_type": "stream",
     "text": [
      "Pilih dengan Angka:  1\n"
     ]
    },
    {
     "name": "stdout",
     "output_type": "stream",
     "text": [
      "\n",
      "    1. Tambah\n",
      "    2. Kali\n",
      "    3. Pangkat\n",
      "    4. Kembali\n",
      "    \n"
     ]
    },
    {
     "name": "stdin",
     "output_type": "stream",
     "text": [
      " Pilih Operasi Aritmatika:  3\n",
      "Masukan Angka Pertama:  2\n",
      "Masukan Angka Kedua:  2\n"
     ]
    },
    {
     "name": "stdout",
     "output_type": "stream",
     "text": [
      "Hasil:  4\n",
      "\n",
      "    1. Aritmatika\n",
      "    2. Konversi\n",
      "    3. Ubah Decimal\n",
      "    4. Keluar\n",
      "    \n"
     ]
    },
    {
     "name": "stdin",
     "output_type": "stream",
     "text": [
      "Pilih dengan Angka:  2\n"
     ]
    },
    {
     "name": "stdout",
     "output_type": "stream",
     "text": [
      "\n",
      "    1. Centi Meter to Meter\n",
      "    2. Meter to Centi Meter\n",
      "    3. Kembali\n",
      "    \n"
     ]
    },
    {
     "name": "stdin",
     "output_type": "stream",
     "text": [
      " Pilih Konversi:  1\n",
      "Masukan Panjang:  35\n"
     ]
    },
    {
     "name": "stdout",
     "output_type": "stream",
     "text": [
      "Hasil dalam Meter:  0.35\n",
      "\n",
      "    1. Aritmatika\n",
      "    2. Konversi\n",
      "    3. Ubah Decimal\n",
      "    4. Keluar\n",
      "    \n"
     ]
    },
    {
     "name": "stdin",
     "output_type": "stream",
     "text": [
      "Pilih dengan Angka:  2\n"
     ]
    },
    {
     "name": "stdout",
     "output_type": "stream",
     "text": [
      "\n",
      "    1. Centi Meter to Meter\n",
      "    2. Meter to Centi Meter\n",
      "    3. Kembali\n",
      "    \n"
     ]
    },
    {
     "name": "stdin",
     "output_type": "stream",
     "text": [
      " Pilih Konversi:  2\n",
      "Masukan Panjang:  5\n"
     ]
    },
    {
     "name": "stdout",
     "output_type": "stream",
     "text": [
      "Hasil dalam Centi Meter:  500\n",
      "\n",
      "    1. Aritmatika\n",
      "    2. Konversi\n",
      "    3. Ubah Decimal\n",
      "    4. Keluar\n",
      "    \n"
     ]
    },
    {
     "name": "stdin",
     "output_type": "stream",
     "text": [
      "Pilih dengan Angka:  3\n"
     ]
    },
    {
     "name": "stdout",
     "output_type": "stream",
     "text": [
      "\n",
      "    1. Decimal to Biner\n",
      "    2. Decimal to Octal\n",
      "    3. Decimal to HexaDecimal\n",
      "    \n"
     ]
    },
    {
     "name": "stdin",
     "output_type": "stream",
     "text": [
      " Pilih Konversi Decimal:  1\n",
      "Masukan bilangan Decimal: 5.0\n"
     ]
    },
    {
     "ename": "ValueError",
     "evalue": "invalid literal for int() with base 10: '5.0'",
     "output_type": "error",
     "traceback": [
      "\u001b[1;31m---------------------------------------------------------------------------\u001b[0m",
      "\u001b[1;31mValueError\u001b[0m                                Traceback (most recent call last)",
      "Cell \u001b[1;32mIn[23], line 23\u001b[0m\n\u001b[0;32m     21\u001b[0m \u001b[38;5;28;01melif\u001b[39;00m menu \u001b[38;5;241m==\u001b[39m \u001b[38;5;241m3\u001b[39m:\n\u001b[0;32m     22\u001b[0m     menu \u001b[38;5;241m=\u001b[39m MenuUbahDecimal()\n\u001b[1;32m---> 23\u001b[0m     dec \u001b[38;5;241m=\u001b[39m \u001b[38;5;28mint\u001b[39m(\u001b[38;5;28minput\u001b[39m(\u001b[38;5;124m\"\u001b[39m\u001b[38;5;124mMasukan bilangan Decimal:\u001b[39m\u001b[38;5;124m\"\u001b[39m))\n\u001b[0;32m     24\u001b[0m     \u001b[38;5;28;01mif\u001b[39;00m menu \u001b[38;5;241m==\u001b[39m\u001b[38;5;241m1\u001b[39m:\n\u001b[0;32m     25\u001b[0m         \u001b[38;5;28mprint\u001b[39m(ubdec\u001b[38;5;241m.\u001b[39mDectoBin(dec),\u001b[38;5;124m\"\u001b[39m\u001b[38;5;124mBiner\u001b[39m\u001b[38;5;124m\"\u001b[39m)\n",
      "\u001b[1;31mValueError\u001b[0m: invalid literal for int() with base 10: '5.0'"
     ]
    }
   ],
   "source": [
    "while True:\n",
    "    MenuUtama()\n",
    "    menu = int(input(\"Pilih dengan Angka: \"))\n",
    "    if menu == 1:\n",
    "        menu = MenuAritmatika()\n",
    "        num1 = int(input(\"Masukan Angka Pertama: \"))\n",
    "        num2 = int(input(\"Masukan Angka Kedua: \"))\n",
    "        if menu == 1:\n",
    "            print(\"Hasil: \",math.add(num1,num2))\n",
    "        elif menu == 2:\n",
    "            print(\"Hasil: \",math.multiply(num1,num2))\n",
    "        elif menu == 3:\n",
    "            print(\"Hasil: \",math.pow(num1,num2))\n",
    "    elif menu == 2:\n",
    "        menu = MenuKonversi()\n",
    "        val = int(input(\"Masukan Panjang: \"))\n",
    "        if menu == 1:\n",
    "            print(\"Hasil dalam Meter: \",cnv.CmtoMeter(val))\n",
    "        elif menu == 2:\n",
    "            print(\"Hasil dalam Centi Meter: \",cnv.MetertoCm(val))\n",
    "    elif menu == 3:\n",
    "        menu = MenuUbahDecimal()\n",
    "        dec = int(input(\"Masukan bilangan Decimal:\"))\n",
    "        if menu ==1:\n",
    "            print(ubdec.DectoBin(dec),\"Biner\")\n",
    "        elif menu == 2:\n",
    "            print(ubdec.DectoOct(dec),\"Octal\")\n",
    "        elif menu == 3:\n",
    "            print(ubdec.DectoHex(dec),\"HexaDecimal\")\n",
    "    elif menu == 4:\n",
    "        print(\"Program Dihentikan\\nTerima Kasih!\")\n",
    "        break"
   ]
  },
  {
   "cell_type": "code",
   "execution_count": null,
   "id": "0681335f-4c73-44d8-9a79-b646227df0dd",
   "metadata": {},
   "outputs": [],
   "source": []
  }
 ],
 "metadata": {
  "kernelspec": {
   "display_name": "Python [conda env:base] *",
   "language": "python",
   "name": "conda-base-py"
  },
  "language_info": {
   "codemirror_mode": {
    "name": "ipython",
    "version": 3
   },
   "file_extension": ".py",
   "mimetype": "text/x-python",
   "name": "python",
   "nbconvert_exporter": "python",
   "pygments_lexer": "ipython3",
   "version": "3.12.7"
  }
 },
 "nbformat": 4,
 "nbformat_minor": 5
}
