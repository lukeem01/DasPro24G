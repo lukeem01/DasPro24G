{
 "cells": [
  {
   "cell_type": "markdown",
   "id": "e5c1a6b7-fd99-4556-9eed-5120519d281e",
   "metadata": {},
   "source": [
    "<h3>Aritmatika</h3>"
   ]
  },
  {
   "cell_type": "code",
   "execution_count": 2,
   "id": "5d2bedf6-2eb0-450d-ae5c-38fb1abc0123",
   "metadata": {},
   "outputs": [
    {
     "name": "stdin",
     "output_type": "stream",
     "text": [
      "Isikan Nilai X : 40\n",
      "Isikan Nilai Y : 5\n"
     ]
    },
    {
     "name": "stdout",
     "output_type": "stream",
     "text": [
      "Hasil Penjumlahan 40 + 5 = 45\n",
      "Hasil Pengurangan 40 - 5 = 35\n",
      "Hasil Perkalian 40 * 5 = 200\n",
      "Hasil Pembagian 40 / 5 = 8.0\n",
      "Hasil Modulus 40 % 5 = 0\n",
      "Hasil Pangkat 40 ^ 5 = 102400000\n",
      "Hasil Pembagian Bulat 40 // 5 = 8\n"
     ]
    }
   ],
   "source": [
    "x = int (input(\"Isikan Nilai X :\"))\n",
    "y = int (input(\"Isikan Nilai Y :\"))\n",
    "\n",
    "hasilTambah = x + y;\n",
    "hasilKurang = x - y;\n",
    "hasilKali = x * y;\n",
    "hasilBagi = x / y;\n",
    "hasilMod = x % y;\n",
    "hasilPangkat = x ** y;\n",
    "hasilBagiBulat = x // y;\n",
    "\n",
    "print(\"Hasil Penjumlahan\",x,\"+\",y,\"=\",hasilTambah)\n",
    "print(\"Hasil Pengurangan\",x,\"-\",y,\"=\",hasilKurang)\n",
    "print(\"Hasil Perkalian\",x,\"*\",y,\"=\",hasilKali)\n",
    "print(\"Hasil Pembagian\",x,\"/\",y,\"=\",hasilBagi)\n",
    "print(\"Hasil Modulus\",x,\"%\",y,\"=\",hasilMod)\n",
    "print(\"Hasil Pangkat\",x,\"^\",y,\"=\",hasilPangkat)\n",
    "print(\"Hasil Pembagian Bulat\",x,\"//\",y,\"=\",hasilBagiBulat)"
   ]
  },
  {
   "cell_type": "markdown",
   "id": "e0c00615-2579-469e-ae76-62d89ed1d09b",
   "metadata": {},
   "source": [
    "<h2>Penugasan</h2>"
   ]
  },
  {
   "cell_type": "code",
   "execution_count": 11,
   "id": "68bdac05-a81b-4627-a2f6-d61900f27300",
   "metadata": {},
   "outputs": [
    {
     "name": "stdin",
     "output_type": "stream",
     "text": [
      "Isikan NIlai : 90\n"
     ]
    },
    {
     "name": "stdout",
     "output_type": "stream",
     "text": [
      "Nilai dari variabel 'number' 90\n",
      "Setelah ditambah dengan 5: 95\n",
      "Setelah dikurangi dengan 10: 85\n",
      "Setelah dibagi dengan 2: 42.5\n",
      "Setelah dikalikan dengan 5: 212.5\n"
     ]
    }
   ],
   "source": [
    "number = int(input(\"Isikan NIlai :\"))\n",
    "print(\"Nilai dari variabel 'number'\",number)\n",
    "number+=5\n",
    "print(\"Setelah ditambah dengan 5:\",number)\n",
    "number-=10\n",
    "print(\"Setelah dikurangi dengan 10:\",number)\n",
    "number/=2\n",
    "print(\"Setelah dibagi dengan 2:\",number)\n",
    "number*=5\n",
    "print(\"Setelah dikalikan dengan 5:\",number)"
   ]
  },
  {
   "cell_type": "markdown",
   "id": "b5a70ad7-051e-4939-b339-58e859209685",
   "metadata": {},
   "source": [
    "<h3>Perbandingan</h3>"
   ]
  },
  {
   "cell_type": "code",
   "execution_count": 24,
   "id": "cadbbcee-77aa-43e3-b43e-a727403c9935",
   "metadata": {
    "scrolled": true
   },
   "outputs": [
    {
     "name": "stdin",
     "output_type": "stream",
     "text": [
      "Isikan Nilai val1: 6\n",
      "Isikan Nilai val2: 6\n"
     ]
    },
    {
     "name": "stdout",
     "output_type": "stream",
     "text": [
      "Apakah 6 > 6 ? False\n",
      "Apakah 6 < 6 ? False\n",
      "Apakah 6 >= 6 ? True\n",
      "Apakah 6 <= 6 ? True\n",
      "Apakah 6 == 6 ? True\n",
      "Apakah 6 != 6 ? False\n"
     ]
    }
   ],
   "source": [
    "val1 = int(input(\"Isikan Nilai val1:\"))\n",
    "val2 = int(input(\"Isikan Nilai val2:\"))\n",
    "\n",
    "print(\"Apakah\",val1,\">\",val2,\"?\",val1>val2)\n",
    "print(\"Apakah\",val1,\"<\",val2,\"?\",val1<val2)\n",
    "print(\"Apakah\",val1,\">=\",val2,\"?\",val1>=val2)\n",
    "print(\"Apakah\",val1,\"<=\",val2,\"?\",val1<=val2)\n",
    "print(\"Apakah\",val1,\"==\",val2,\"?\",val1==val2)\n",
    "print(\"Apakah\",val1,\"!=\",val2,\"?\",val1!=val2)"
   ]
  },
  {
   "cell_type": "markdown",
   "id": "85f19e88-b707-461b-8e78-02115cc6f523",
   "metadata": {},
   "source": [
    "<h3>Logika</h3>"
   ]
  },
  {
   "cell_type": "code",
   "execution_count": 7,
   "id": "3fdf5135-ec77-43c3-858f-49f9507f0065",
   "metadata": {},
   "outputs": [
    {
     "name": "stdin",
     "output_type": "stream",
     "text": [
      "Isikan number1 : 3\n",
      "Isikan number2 : 2\n",
      "Isikan number3 : 4\n",
      "Isikan number4 : 4\n"
     ]
    },
    {
     "name": "stdout",
     "output_type": "stream",
     "text": [
      "Apakah 3 > 2 and 4 == 4 ?\n",
      "True\n",
      "Apakah 3 > 2 or 4 == 4 ?\n",
      "True\n",
      "Apakah 3 > 2 not and 4 == 4 ?\n",
      "False\n"
     ]
    }
   ],
   "source": [
    "number1 = int(input(\"Isikan number1 :\"))\n",
    "number2 = int(input(\"Isikan number2 :\"))\n",
    "number3 = int(input(\"Isikan number3 :\"))\n",
    "number4 = int(input(\"Isikan number4 :\"))\n",
    "\n",
    "##And\n",
    "print(\"Apakah\",number1,\">\",number2,\"and\",number3,\"==\",number4,\"?\")\n",
    "print(number1>number2 and number3==number4)\n",
    "\n",
    "##Or\n",
    "print(\"Apakah\",number1,\">\",number2,\"or\",number3,\"==\",number4,\"?\")\n",
    "print(number1>number2 or number3==number4)\n",
    "\n",
    "##Nand Not And\n",
    "print(\"Apakah\",number1,\">\",number2,\"not and\",number3,\"==\",number4,\"?\")\n",
    "print(not(number1>number2 and number3==number4))\n",
    "\n"
   ]
  },
  {
   "cell_type": "markdown",
   "id": "9e139d78-ceb0-4933-ac58-51e602d78a0c",
   "metadata": {},
   "source": [
    "<h3>Identitas</h3>"
   ]
  },
  {
   "cell_type": "code",
   "execution_count": 22,
   "id": "37c629bf-641a-49a2-824b-1ac94ab6f9f3",
   "metadata": {},
   "outputs": [
    {
     "name": "stdout",
     "output_type": "stream",
     "text": [
      "Alamat Memory idty1: 140722093566680\n",
      "Alamat Memory idty2: 1924714048288\n",
      "Alamat Memory idty3: 140722093566680\n",
      "Apakah idty1 is idty2: False\n",
      "Apakah idty2 is idty3: False\n",
      "Apakah idty3 is idty1 True\n",
      "Apakah idty1 is not idty2: True\n",
      "Apakah idty2 is not idty3: True\n",
      "Apakah idty3 is not idty1 False\n"
     ]
    }
   ],
   "source": [
    "idty1 = 10\n",
    "idty2 = \"10\"\n",
    "idty3 = idty1\n",
    "print(\"Alamat Memory idty1:\",id(idty1))\n",
    "print(\"Alamat Memory idty2:\",id(idty2))\n",
    "print(\"Alamat Memory idty3:\",id(idty3))\n",
    "print(\"Apakah idty1 is idty2:\",idty1 is idty2)\n",
    "print(\"Apakah idty2 is idty3:\",idty2 is idty3)\n",
    "print(\"Apakah idty3 is idty1\",idty3 is idty1)\n",
    "\n",
    "print(\"Apakah idty1 is not idty2:\",idty1 is not idty2)\n",
    "print(\"Apakah idty2 is not idty3:\",idty2 is not idty3)\n",
    "print(\"Apakah idty3 is not idty1\",idty3 is not idty1)"
   ]
  },
  {
   "cell_type": "markdown",
   "id": "0b663204-f8e0-4c9d-a1ff-6f32bd1635d5",
   "metadata": {},
   "source": [
    "<h3>Keanggotaan</h3>"
   ]
  },
  {
   "cell_type": "code",
   "execution_count": 27,
   "id": "0762f295-9135-4061-a164-4acf3ebd141f",
   "metadata": {},
   "outputs": [
    {
     "name": "stdin",
     "output_type": "stream",
     "text": [
      "Insert your Fruit:  Cau\n"
     ]
    },
    {
     "name": "stdout",
     "output_type": "stream",
     "text": [
      "Is There any Cau in ['WaterMelon', 'Cau', 'Start Fruit', 'DurianBelanda', 'MusangKing'] ? True\n",
      "True\n"
     ]
    }
   ],
   "source": [
    "listFruit = [\"WaterMelon\",\"Cau\",\"Start Fruit\",\"DurianBelanda\",\"MusangKing\"]\n",
    "findFruit = input(\"Insert your Fruit: \")\n",
    "print(\"Is There any\", findFruit,\"in\",listFruit,\"?\",findFruit in listFruit)\n",
    "print(findFruit is not listFruit)"
   ]
  },
  {
   "cell_type": "markdown",
   "id": "e8c9f43d-72e8-4b6e-ab85-55be144be567",
   "metadata": {},
   "source": [
    "<h3>BitWise</h3>"
   ]
  },
  {
   "cell_type": "code",
   "execution_count": 9,
   "id": "6e8ed884-83fd-49da-b3ae-4b61f650c93f",
   "metadata": {},
   "outputs": [
    {
     "name": "stdin",
     "output_type": "stream",
     "text": [
      "Insert Bilangan 1 64\n",
      "Insert Bilangan 2 6\n"
     ]
    },
    {
     "name": "stdout",
     "output_type": "stream",
     "text": [
      "0b1000000\n",
      "0b110\n",
      "========\n",
      "0b0 = 0\n",
      "\n",
      "0b1000000\n",
      "0b110\n",
      "=======\n",
      "0b1000110 = 70\n"
     ]
    }
   ],
   "source": [
    "num1 = int(input(\"Insert Bilangan 1\"))\n",
    "num2 = int(input(\"Insert Bilangan 2\"))\n",
    "\n",
    "bAnd = num1 & num2\n",
    "print(bin(num1))\n",
    "print(bin(num2))\n",
    "print(\"========\")\n",
    "print(bin(bAnd),\"=\",bAnd)\n",
    "print()\n",
    "\n",
    "bOr = num1 | num2\n",
    "print(bin(num1))\n",
    "print(bin(num2))\n",
    "print(\"=======\")\n",
    "print(bin(bOr),\"=\",bOr)\n"
   ]
  },
  {
   "cell_type": "markdown",
   "id": "0852f330-9a65-4651-8757-ea303798f9f4",
   "metadata": {},
   "source": [
    "<h3>Ternary</h3>"
   ]
  },
  {
   "cell_type": "code",
   "execution_count": 48,
   "id": "c501c997-caba-4966-8a4d-a8c459458c9e",
   "metadata": {},
   "outputs": [
    {
     "name": "stdin",
     "output_type": "stream",
     "text": [
      "Isikan BIlangan : 0\n"
     ]
    },
    {
     "name": "stdout",
     "output_type": "stream",
     "text": [
      "0 Adalah bilangan Genap\n"
     ]
    }
   ],
   "source": [
    "#Bilangan Ganjil atau Genap\n",
    "\n",
    "bil = int(input(\"Isikan BIlangan :\"))\n",
    "oddEven = \"Genap\" if bil %2==0 else \"Ganjil\"\n",
    "print(bil,\"Adalah bilangan\", oddEven)"
   ]
  },
  {
   "cell_type": "markdown",
   "id": "4fe34ae9-2715-4fb9-aba4-cc4ca18eb352",
   "metadata": {},
   "source": [
    "<h3>Tugas</h3>"
   ]
  },
  {
   "cell_type": "code",
   "execution_count": 71,
   "id": "e2852186-bcfd-434b-b995-8c1df0456977",
   "metadata": {},
   "outputs": [
    {
     "name": "stdin",
     "output_type": "stream",
     "text": [
      "Beli Berapa bwang?: 1\n",
      "Beli Berapa bwang?: 1\n",
      "Beli Berapa bwang?: 1\n"
     ]
    },
    {
     "name": "stdout",
     "output_type": "stream",
     "text": [
      "EsBuah 1\n",
      "EsTeler 1\n",
      "EsKelapa 1\n",
      "Harga EsBuah yang dibeli = Rp. 10000\n",
      "Harga EsTeler yang dibeli = Rp. 20000\n",
      "Harga EsKelapa yang dibeli = Rp. 15000\n",
      "Total Harga = Rp. 45000\n",
      "Discount 10% =  0\n",
      "Harga Yang Harus Dibayar 45000\n"
     ]
    }
   ],
   "source": [
    "#EsMantap\n",
    "\n",
    "EsBuah = int(input(\"Beli Berapa bwang?:\"))\n",
    "EsTeler = int(input(\"Beli Berapa bwang?:\"))\n",
    "EsKelapa = int(input(\"Beli Berapa bwang?:\"))\n",
    "\n",
    "HargaEB = 10000 * EsBuah\n",
    "HargaET = 20000 * EsTeler\n",
    "HargaEK = 15000 * EsKelapa\n",
    "HarTot = HargaEB+HargaET+HargaEK\n",
    "print(\"EsBuah\",EsBuah)\n",
    "print(\"EsTeler\",EsTeler)\n",
    "print(\"EsKelapa\",EsKelapa)\n",
    "\n",
    "print(\"Harga EsBuah yang dibeli = Rp.\",HargaEB)\n",
    "print(\"Harga EsTeler yang dibeli = Rp.\",HargaET)\n",
    "print(\"Harga EsKelapa yang dibeli = Rp.\",HargaEK)\n",
    "print(\"Total Harga = Rp.\",HarTot)\n",
    "Discount = HarTot*1/10 if HarTot >= 100000 else 0\n",
    "print(\"Discount 10% = \",Discount)\n",
    "print(\"Harga Yang Harus Dibayar\",HarTot - Discount)"
   ]
  },
  {
   "cell_type": "markdown",
   "id": "56245aca-225c-45b1-bdd8-9fa642cdfc7e",
   "metadata": {},
   "source": [
    "<h3>Tugas2</h3>"
   ]
  },
  {
   "cell_type": "code",
   "execution_count": 114,
   "id": "2048f1ff-5234-436f-acb8-edf7a15de127",
   "metadata": {},
   "outputs": [
    {
     "name": "stdin",
     "output_type": "stream",
     "text": [
      "Masukan Bilangan 1234\n"
     ]
    },
    {
     "name": "stdout",
     "output_type": "stream",
     "text": [
      "1224\n"
     ]
    }
   ],
   "source": [
    "bil = input(\"Masukan Bilangan\")\n",
    "kurang = int(bil[0])+int(bil[1])+int(bil[2])+int(bil[3])\n",
    "Hasil = int(bil) - kurang\n",
    "print(Hasil)"
   ]
  },
  {
   "cell_type": "code",
   "execution_count": null,
   "id": "8372a382-ba3d-4948-995d-3684321eeb8a",
   "metadata": {},
   "outputs": [],
   "source": []
  }
 ],
 "metadata": {
  "kernelspec": {
   "display_name": "Python [conda env:base] *",
   "language": "python",
   "name": "conda-base-py"
  },
  "language_info": {
   "codemirror_mode": {
    "name": "ipython",
    "version": 3
   },
   "file_extension": ".py",
   "mimetype": "text/x-python",
   "name": "python",
   "nbconvert_exporter": "python",
   "pygments_lexer": "ipython3",
   "version": "3.12.7"
  }
 },
 "nbformat": 4,
 "nbformat_minor": 5
}
