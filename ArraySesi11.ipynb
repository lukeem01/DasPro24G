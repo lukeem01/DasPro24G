{
 "cells": [
  {
   "cell_type": "code",
   "execution_count": 7,
   "id": "901320f7-0f3c-4f19-988c-7f8c6b4bf4da",
   "metadata": {},
   "outputs": [],
   "source": [
    "import numpy as np"
   ]
  },
  {
   "cell_type": "code",
   "execution_count": 9,
   "id": "475df197-30ae-4bfb-845b-f7c86a110235",
   "metadata": {},
   "outputs": [],
   "source": [
    "mat1D = np.array([1,2,3,4,5,6,7,8,9])\n",
    "mat2D = np.array([[10,20,30,40] , [50,60,70,80] , [90,100,110,120]])"
   ]
  },
  {
   "cell_type": "code",
   "execution_count": 11,
   "id": "4936de25-9a75-4084-b548-aee21bd6929e",
   "metadata": {},
   "outputs": [
    {
     "name": "stdout",
     "output_type": "stream",
     "text": [
      "Nilai mat1D :\n",
      "[1 2 3 4 5 6 7 8 9]\n",
      "Nilai mat2D :\n",
      "[[ 10  20  30  40]\n",
      " [ 50  60  70  80]\n",
      " [ 90 100 110 120]]\n"
     ]
    }
   ],
   "source": [
    "print(f\"Nilai mat1D :\\n{mat1D}\")\n",
    "print(f\"Nilai mat2D :\\n{mat2D}\")"
   ]
  },
  {
   "cell_type": "code",
   "execution_count": 17,
   "id": "f5f88d26-620c-49fb-9dd6-31f8777d5e05",
   "metadata": {},
   "outputs": [
    {
     "name": "stdout",
     "output_type": "stream",
     "text": [
      "2\n",
      "[50 60 70 80]\n",
      "70\n",
      "mat1D ditambah dengan 10 :\n",
      "[11 12 13 14 15 16 17 18 19]\n",
      "mat2D ditambah dengan 2:\n",
      "[[ 12  22  32  42]\n",
      " [ 52  62  72  82]\n",
      " [ 92 102 112 122]]\n"
     ]
    }
   ],
   "source": [
    "print(mat1D[1]) #2\n",
    "print(mat2D[1]) # [50, 60, 70, 80]\n",
    "print(mat2D[1][2]) #70\n",
    "print(f\"mat1D ditambah dengan 10 :\\n{mat1D + 10}\")\n",
    "print(f\"mat2D ditambah dengan 2:\\n{mat2D + 2}\")"
   ]
  },
  {
   "cell_type": "code",
   "execution_count": 23,
   "id": "66add499-9ffa-49ed-a7df-be7ea609e432",
   "metadata": {},
   "outputs": [
    {
     "name": "stdout",
     "output_type": "stream",
     "text": [
      "(9,)\n",
      "9\n",
      "Bentuk dari mat2D : (3, 4)\n",
      "Ukuran dari mat2D : 12\n"
     ]
    }
   ],
   "source": [
    "print(mat1D.shape)\n",
    "print(mat1D.size)\n",
    "print(f\"Bentuk dari mat2D : {mat2D.shape}\")\n",
    "print(f\"Ukuran dari mat2D : {mat2D.size}\")"
   ]
  },
  {
   "cell_type": "code",
   "execution_count": 79,
   "id": "21cc535c-6863-4c74-8df8-eeaaa35dd76a",
   "metadata": {},
   "outputs": [],
   "source": [
    "#Matriks Special (Matriks Zero)\n",
    "\n",
    "mZero = np.zeros ((4,4))\n",
    "mOne = np.ones ((3,3))\n",
    "mIdentity = np.eye((3))\n",
    "mFull = np.full((3,4) , 10)\n",
    "mRand1D = np.random.rand(5)  #1D\n",
    "mRand2D = np.random.rand(3,4)\n",
    "mRandInt1D = np.random.randint(1,100, size=8)\n",
    "mRandInt2D = np.random.randint(1,100, size=(3,3))"
   ]
  },
  {
   "cell_type": "code",
   "execution_count": 83,
   "id": "7aaaadae-9b9e-4dd7-a8c4-ee46d08dab54",
   "metadata": {},
   "outputs": [
    {
     "name": "stdout",
     "output_type": "stream",
     "text": [
      "mZero :\n",
      " [[0. 0. 0. 0.]\n",
      " [0. 0. 0. 0.]\n",
      " [0. 0. 0. 0.]\n",
      " [0. 0. 0. 0.]]\n",
      "mOne :\n",
      "[[1. 1. 1.]\n",
      " [1. 1. 1.]\n",
      " [1. 1. 1.]]\n",
      "mIdentity :\n",
      "[[1. 0. 0.]\n",
      " [0. 1. 0.]\n",
      " [0. 0. 1.]]\n",
      "mFull :\n",
      "[[10 10 10 10]\n",
      " [10 10 10 10]\n",
      " [10 10 10 10]]\n",
      "mRand :\n",
      "[0.95918604 0.12877429 0.37923966 0.31671819 0.87316528]\n",
      "mRand2D :\n",
      " [[0.20240035 0.45963836 0.28668981 0.07012175]\n",
      " [0.69280131 0.39936585 0.17211094 0.3221582 ]\n",
      " [0.33699556 0.87311766 0.51615013 0.2840926 ]]\n",
      "mRandInt1D : \n",
      "[67 80 80 33 84 11 21 77]\n",
      "mRandInt2D :\n",
      "[[83 60 28]\n",
      " [40 32 70]\n",
      " [29 35 29]]\n"
     ]
    }
   ],
   "source": [
    "print(f\"mZero :\\n {mZero}\")\n",
    "print(f\"mOne :\\n{mOne}\")\n",
    "print(f\"mIdentity :\\n{mIdentity}\")\n",
    "print(f\"mFull :\\n{mFull}\")\n",
    "print(f\"mRand :\\n{mRand1D}\")\n",
    "print(f\"mRand2D :\\n {mRand2D}\")\n",
    "print(f\"mRandInt1D : \\n{mRandInt1D}\")\n",
    "print(f\"mRandInt2D :\\n{mRandInt2D}\")"
   ]
  },
  {
   "cell_type": "code",
   "execution_count": 91,
   "id": "f897242b-8308-419c-89a9-de5e7eea0869",
   "metadata": {},
   "outputs": [
    {
     "name": "stdout",
     "output_type": "stream",
     "text": [
      "Hasil Penjumlahan x dan y : [ 7  9 11 13 15]\n",
      "Hasil dari dot product : 130\n"
     ]
    }
   ],
   "source": [
    "#Operasi Aritmatika\n",
    "\n",
    "x = np.array([1,2,3,4,5])\n",
    "y = np.array([6,7,8,9,10])\n",
    "\n",
    "r1 = np.add(x,y)\n",
    "r2 = np.dot(x,y)\n",
    "\n",
    "print(f\"Hasil Penjumlahan x dan y : {r1}\")\n",
    "print(f\"Hasil dari dot product : {r2}\")"
   ]
  },
  {
   "cell_type": "code",
   "execution_count": 109,
   "id": "c4efcf88-51af-473d-8ea0-765a3ec8370c",
   "metadata": {},
   "outputs": [
    {
     "name": "stdout",
     "output_type": "stream",
     "text": [
      "Nilai Pemrtogtam :[100  90  90  50  80  60  50]\n",
      "Nilai yang paling rendah : 50 \n",
      "Nilai yang paling Tinggi :100\n",
      "Nilai Rata - Rata: 74.28571428571429\n"
     ]
    }
   ],
   "source": [
    "#Fugsi dasat Statistika\n",
    "nilaiPrograming = np.array([100,90,90, 50,80,60,50,])\n",
    "print(f\"Nilai Pemrtogtam :{nilaiPrograming}\")\n",
    "print(f\"Nilai yang paling rendah : {np.min(nilaiPrograming)} \")\n",
    "print(f\"Nilai yang paling Tinggi :{np.max(nilaiPrograming)}\")\n",
    "print(f\"Nilai Rata - Rata: {np.mean(nilaiPrograming)}\")\n",
    "print(f\"Nilai Rata - Rata: {np.mean(nilaiPrograming)}\")"
   ]
  },
  {
   "cell_type": "code",
   "execution_count": 111,
   "id": "cb31d31e-16bc-4dd3-b58b-8a2e92c9bd8a",
   "metadata": {},
   "outputs": [
    {
     "name": "stdout",
     "output_type": "stream",
     "text": [
      "Daftar niai yang lulus : [100  90  90  80  60]\n"
     ]
    }
   ],
   "source": [
    "#Filtering\n",
    "lulus = nilaiPrograming[nilaiPrograming > 50]\n",
    "\n",
    "print(f\"Daftar niai yang lulus : {lulus}\")"
   ]
  },
  {
   "cell_type": "code",
   "execution_count": 119,
   "id": "1a604e9e-3b34-4d15-aecb-baf013746f77",
   "metadata": {},
   "outputs": [
    {
     "name": "stdout",
     "output_type": "stream",
     "text": [
      "Jumlah yang lulus : 5\n"
     ]
    }
   ],
   "source": [
    "print(f\"Jumlah yang lulus : {lulus.size}\")"
   ]
  },
  {
   "cell_type": "markdown",
   "id": "9634cefd-8786-4bd9-8f6a-7da5073dd594",
   "metadata": {},
   "source": [
    "<b1>Contoh Kasus Data set </b1>\n",
    "Buatlah data set sebanyak 10.000 untuk proses klasifikasi nasabah kartu kredit\n",
    "\n",
    "<ol>\n",
    "    <li>Usia: 17 - 60</li>\n",
    "    <li> Gender: L/P</li>\n",
    "    <li>Gaji: 1jt - 3jt, 3jt - 5jt, 5jt - 10jt</li>\n",
    "    <li>Jumlah Anak : 0 - 6</li>\n",
    "    \n",
    "</ol>"
   ]
  },
  {
   "cell_type": "code",
   "execution_count": 170,
   "id": "b0b4ffb5-c9f9-4e18-95f0-a2c54f29e57d",
   "metadata": {},
   "outputs": [
    {
     "name": "stdout",
     "output_type": "stream",
     "text": [
      "<class 'pandas.core.frame.DataFrame'>\n",
      "RangeIndex: 10000 entries, 0 to 9999\n",
      "Data columns (total 4 columns):\n",
      " #   Column       Non-Null Count  Dtype \n",
      "---  ------       --------------  ----- \n",
      " 0   Usia         10000 non-null  int32 \n",
      " 1   Gender       10000 non-null  object\n",
      " 2   Gaji         10000 non-null  object\n",
      " 3   Jumlah Anak  10000 non-null  int32 \n",
      "dtypes: int32(2), object(2)\n",
      "memory usage: 234.5+ KB\n",
      "None\n",
      "   Usia Gender    Gaji  Jumlah Anak\n",
      "0    53      P  5-10jt            2\n",
      "1    37      P  5-10jt            2\n",
      "2    40      P  5-10jt            2\n",
      "3    36      L  5-10jt            3\n",
      "4    56      L  5-10jt            1\n",
      "(10000, 4)\n",
      "40000\n",
      "Usia Termuda : 17\n",
      "Usia Tertua : 60\n",
      "Jumlah calon nasabah lak-laki : 5047.0\n",
      "Jumlah calon nasabah laki-laki : 5047\n",
      "Jumlah calon nasabah Perempuan : 4953.0\n",
      "Jumlah calon nasabah Perempuan : 4953\n"
     ]
    }
   ],
   "source": [
    "import numpy as np\n",
    "import pandas as pd\n",
    "\n",
    "n_data = 10000\n",
    "usia = np.random.randint(17,61, size=n_data)\n",
    "gender = np.random.choice(['L' , 'P'], size=n_data)\n",
    "gaji = np.random.choice(['1-3jt', '3-5jt', '5-10jt'])\n",
    "anak =  np.random.randint(0,7, size=n_data)\n",
    "\n",
    "df = pd.DataFrame ({\n",
    "    'Usia' : usia,\n",
    "    'Gender' : gender,\n",
    "    'Gaji' : gaji,\n",
    "    'Jumlah Anak' : anak\n",
    "})\n",
    "\n",
    "df.to_csv('data_calon_nasabah.csv')\n",
    "\n",
    "print(df.info())\n",
    "print(df.head())\n",
    "print(df.shape)\n",
    "print(df.size)\n",
    "print(f\"Usia Termuda : {df['Usia'].min()}\") #Tampilkan Usia calon nasabah yang paling muda\n",
    "print(f\"Usia Tertua : {df['Usia'].max()}\") #Tampilkan Usia calon nasabah yang paling tua\n",
    "#print(f\"Gaji Rata-Rata : {df['Gaji'].mean()}\")#Tampilkan Gaji Rata-Rata\n",
    "jLaki = df[df['Gender'] == 'L'] #Tampilkan berapa jumlah Laki-Laki\n",
    "print(f\"Jumlah calon nasabah lak-laki : {jLaki.size/4}\")\n",
    "print(f\"Jumlah calon nasabah laki-laki : {jLaki['Gender'].size}\")\n",
    "jPerempuan = df[df['Gender'] == 'P'] #Tampilkan berapa jumlah Perempuan\n",
    "print(f\"Jumlah calon nasabah Perempuan : {jPerempuan.size/4}\")\n",
    "print(f\"Jumlah calon nasabah Perempuan : {jPerempuan['Gender'].size}\")"
   ]
  },
  {
   "cell_type": "code",
   "execution_count": null,
   "id": "fba80a09-caa8-411f-8e4b-c8c638ed7b48",
   "metadata": {},
   "outputs": [],
   "source": []
  }
 ],
 "metadata": {
  "kernelspec": {
   "display_name": "Python [conda env:base] *",
   "language": "python",
   "name": "conda-base-py"
  },
  "language_info": {
   "codemirror_mode": {
    "name": "ipython",
    "version": 3
   },
   "file_extension": ".py",
   "mimetype": "text/x-python",
   "name": "python",
   "nbconvert_exporter": "python",
   "pygments_lexer": "ipython3",
   "version": "3.12.7"
  }
 },
 "nbformat": 4,
 "nbformat_minor": 5
}
