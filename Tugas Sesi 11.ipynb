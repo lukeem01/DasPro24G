{
 "cells": [
  {
   "cell_type": "code",
   "execution_count": 4,
   "id": "ff6c645e-324c-4172-bfa4-40faa0cc1388",
   "metadata": {},
   "outputs": [
    {
     "name": "stdout",
     "output_type": "stream",
     "text": [
      "UKA ATNIC UMAK\n",
      "PYTHON HARI BELAJAR SEDANG INI\n",
      "Ak|_| C1nt4 K4m|_|\n",
      "4ku Cinta Kamu\n"
     ]
    }
   ],
   "source": [
    "def reverse_per_kata(klmt):\n",
    "    words = klmt.split() \n",
    "    result=[] \n",
    "    for word in words:\n",
    "        reverse = word[::-1] \n",
    "        result.append(reverse) \n",
    "    return ' '.join(result)  \n",
    "\n",
    "def urutan_kalimat(klmt,urutan): \n",
    "    urut = klmt.split()  \n",
    "    katakata = []    \n",
    "    for x in urutan :\n",
    "        katakata.append(urut[x-1]) \n",
    "    return \" \".join(katakata)\n",
    "\n",
    "def ganti_vokal(kalimat,opsi):\n",
    "    kata = kalimat.split()\n",
    "    result=[]\n",
    "    if opsi ==1:\n",
    "        for x in kata:\n",
    "            ubah =x.replace('a','4').replace('i','1').replace('u','|_|').replace('e','3').replace('o','0')\n",
    "            result.append(ubah)\n",
    "    elif opsi==2:\n",
    "        for x in kata:\n",
    "            ubah =x.replace('A','4').replace('I','1').replace('U','|_|').replace('E','3').replace('O','0') \n",
    "            result.append(ubah)\n",
    "    return \" \".join(result)\n",
    "\n",
    "\n",
    "print(reverse_per_kata(\"AKU CINTA KAMU\"))\n",
    "print(urutan_kalimat(\"HARI INI SEDANG BELAJAR PYTHON\", [5,1,4,3,2]))\n",
    "print(ganti_vokal(\"Aku Cinta Kamu\",1))\n",
    "print(ganti_vokal(\"Aku Cinta Kamu\",2))"
   ]
  },
  {
   "cell_type": "code",
   "execution_count": null,
   "id": "715c34b3-ce82-41b6-a91f-2ad21e57fbd4",
   "metadata": {},
   "outputs": [],
   "source": []
  }
 ],
 "metadata": {
  "kernelspec": {
   "display_name": "Python [conda env:base] *",
   "language": "python",
   "name": "conda-base-py"
  },
  "language_info": {
   "codemirror_mode": {
    "name": "ipython",
    "version": 3
   },
   "file_extension": ".py",
   "mimetype": "text/x-python",
   "name": "python",
   "nbconvert_exporter": "python",
   "pygments_lexer": "ipython3",
   "version": "3.12.7"
  }
 },
 "nbformat": 4,
 "nbformat_minor": 5
}
