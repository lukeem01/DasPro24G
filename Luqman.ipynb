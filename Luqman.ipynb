{
 "cells": [
  {
   "cell_type": "code",
   "execution_count": 48,
   "id": "19d9b6aa-2c0c-414e-86fa-9ea8c404dade",
   "metadata": {},
   "outputs": [
    {
     "name": "stdout",
     "output_type": "stream",
     "text": [
      "Nama :  Luqmanul Hakim\n",
      "Umur : 21\n",
      "Alamat Kadudampit 7434 Kadudampit\n",
      "Nilai Pemrograman 88.8\n",
      "Status Menikah False\n",
      "Tipe Data <name> <class 'str'>\n",
      "Tipe Data <age> <class 'str'>\n",
      "Tipe Data <address> <class 'str'>\n",
      "Tipe Data <province> <class 'str'>\n",
      "Tipe Data <subdistrict> <class 'str'>\n",
      "Tipe Data <scorePython> <class 'float'>\n",
      "Tipe Data <isMarried> <class 'bool'>\n"
     ]
    }
   ],
   "source": [
    "## No 1\n",
    "name = \"Luqmanul Hakim\"\n",
    "age =\"21\"\n",
    "address,province,subdistrict = \"Kadudampit\",\"7434\",\"Kadudampit\"\n",
    "scorePython = 88.8\n",
    "isMarried = False\n",
    "\n",
    "print(\"Nama : \",name)\n",
    "print(\"Umur :\",age)\n",
    "print(\"Alamat\",address,province,subdistrict)\n",
    "print(\"Nilai Pemrograman\",scorePython)\n",
    "print(\"Status Menikah\",isMarried)\n",
    "\n",
    "## No 2\n",
    "print(\"Tipe Data <name>\",type(name))\n",
    "print(\"Tipe Data <age>\",type(age))\n",
    "print(\"Tipe Data <address>\",type(address))\n",
    "print(\"Tipe Data <province>\",type(province))\n",
    "print(\"Tipe Data <subdistrict>\",type(subdistrict))\n",
    "print(\"Tipe Data <scorePython>\",type(scorePython))\n",
    "print(\"Tipe Data <isMarried>\",type(isMarried))"
   ]
  },
  {
   "cell_type": "code",
   "execution_count": 49,
   "id": "2cc90a87-9937-49fa-b08c-e7187a56d329",
   "metadata": {},
   "outputs": [
    {
     "name": "stdout",
     "output_type": "stream",
     "text": [
      "7434_7434.0_True\n",
      "21_21.0_True\n",
      "88.8_88_True\n",
      "False_0.0_0\n"
     ]
    }
   ],
   "source": [
    "## No 3\n",
    "\n",
    "#Casting atau Konversi Tipe Data\n",
    "#Konversi dari String ke (int,float,bool)\n",
    "strToInt = int(province)\n",
    "strToFloat = float(province)\n",
    "strToBool = bool(province)\n",
    "print(strToInt,strToFloat,strToBool, sep=\"_\")\n",
    "\n",
    "#Konversi dari Int ke (str,float,bool)\n",
    "intToStr = str(age)\n",
    "intToFloat = float(age)\n",
    "intToBool = bool(age)\n",
    "print(intToStr,intToFloat,intToBool, sep=\"_\")\n",
    "\n",
    "#Konversi dari Float ke (str,int,bool)\n",
    "floatToStr = str(scorePython)\n",
    "floatToInt = int(scorePython)\n",
    "floatToBool = bool(scorePython)\n",
    "print(floatToStr,floatToInt,floatToBool, sep=\"_\")\n",
    "\n",
    "#Konversi dari Bool ke (str,int,Float)\n",
    "boolToStr = str(isMarried)\n",
    "boolToFloat = float(isMarried)\n",
    "boolToInt = int(isMarried)\n",
    "print(boolToStr, boolToFloat, boolToInt, sep=\"_\")"
   ]
  },
  {
   "cell_type": "code",
   "execution_count": 53,
   "id": "3dff37de-7338-4b4f-ae54-17706b3771bd",
   "metadata": {},
   "outputs": [
    {
     "name": "stdout",
     "output_type": "stream",
     "text": [
      "Nilai desimal :  500\n",
      "Nilai biner :  10\n",
      "Nilai octal :  255\n",
      "Nilai hexa :  255\n",
      "NIlai Biner dari  500 : 0b111110100\n",
      "Nilai Ocral dari  500 : 0o764\n",
      "Nilai Hexa dari  500 : 0x1f4\n"
     ]
    }
   ],
   "source": [
    "## No 4\n",
    "\n",
    "#Tipe data basis data pada bilangan (desimal,biner,octal,hexa)\n",
    "\n",
    "desimal = 500\n",
    "biner = 0b1010 #10\n",
    "octal = 0o377 #255\n",
    "hexa = 0xff # 255\n",
    "\n",
    "print(\"Nilai desimal : \",desimal)\n",
    "print(\"Nilai biner : \",biner)\n",
    "print(\"Nilai octal : \",octal)\n",
    "print(\"Nilai hexa : \",hexa)\n",
    "\n",
    "print(\"NIlai Biner dari \",desimal, \":\", bin(desimal))\n",
    "print(\"Nilai Ocral dari \",desimal, \":\",oct(desimal))\n",
    "print(\"Nilai Hexa dari \",desimal,\":\",hex(desimal))\n"
   ]
  },
  {
   "cell_type": "code",
   "execution_count": 76,
   "id": "5ca3e0e9-a4d8-476f-940c-5ad1c4515192",
   "metadata": {},
   "outputs": [
    {
     "name": "stdout",
     "output_type": "stream",
     "text": [
      "['Sukabumi', 'Bogor', 'Bekasi', 'Jakarta', 'Bandung']\n",
      "Sukabumi\n",
      "Bandung\n",
      "B\n",
      "g\n",
      "['Bali', 'Bogor', 'Bekasi', 'Jakarta', 'Bandung']\n",
      "('Andi', 'Reggie', 'Ibnu')\n",
      "Reggie\n",
      "{'name': 'Luqman', 'age': 21, 'address': {'street': 'Cisaat', 'number': 27, 'province': 'JAWA'}, 'isMarried': False, 'hobbies': ['Volly', 'Futsal']}\n",
      "21\n",
      "JAWA\n",
      "Volly\n",
      "{'name': 'Luqman', 'age': 21, 'address': {'street': 'Cisaat', 'number': 27, 'province': 'JAWA'}, 'isMarried': False, 'hobbies': ['Volly', 'Futsal']}\n",
      "{'name': 'Deni', 'age': 40, 'address': {'street': 'Cikorup', 'number': 70, 'province': 'Jawa Hitam'}, 'isMarried': True, 'hobbies': ['PK', 'PM']}\n",
      "Jawa Hitam\n"
     ]
    }
   ],
   "source": [
    "## NO 5\n",
    "#Tipe data collection\n",
    "#List\n",
    "cities = [\"Sukabumi\",\"Bogor\",\"Bekasi\",\"Jakarta\",\"Bandung\"]\n",
    "lengthCities = len(cities)\n",
    "print(cities)\n",
    "print(cities[0])\n",
    "print(cities[lengthCities-1])\n",
    "print(cities[lengthCities-1][0])\n",
    "print(cities[lengthCities-1][len(cities[lengthCities-1])-1])\n",
    "cities[0] = \"Bali\"\n",
    "#cities [5] = \"Malang\" akan menyebabkan error our of range\n",
    "print(cities)\n",
    "\n",
    "#Tuple\n",
    "names = (\"Andi\",\"Reggie\",\"Ibnu\")\n",
    "print(names)\n",
    "print(names[1])\n",
    "#names[0] = \"Dedi\" error immutable tuple\n",
    "\n",
    "#Dictionary\n",
    "studentData = {\n",
    "    \"name\" : \"Luqman\",\n",
    "    \"age\" : 21,\n",
    "    \"address\" : {\n",
    "        \"street\" : \"Cisaat\",\n",
    "        \"number\" : 27,\n",
    "        \"province\" : \"JAWA\"\n",
    "    },\n",
    "    \"isMarried\" : False,\n",
    "    \"hobbies\" : [\"Volly\",\"Futsal\"]\n",
    "}\n",
    "\n",
    "print(studentData)\n",
    "print(studentData[\"age\"])\n",
    "print(studentData[\"address\"][\"province\"])\n",
    "print(studentData[\"hobbies\"][0])\n",
    "\n",
    "#Lilst of Dictionary\n",
    "studentList = [\n",
    "    {\n",
    "        \"name\" : \"Luqman\",\n",
    "    \"age\" : 21,\n",
    "    \"address\" : {\n",
    "        \"street\" : \"Cisaat\",\n",
    "        \"number\" : 27,\n",
    "        \"province\" : \"JAWA\"\n",
    "    },\n",
    "    \"isMarried\" : False,\n",
    "    \"hobbies\" : [\"Volly\",\"Futsal\"]\n",
    "},\n",
    "{\n",
    "        \"name\" : \"Deni\",\n",
    "        \"age\" : 40,\n",
    "        \"address\" : {\n",
    "            \"street\" : \"Cikorup\",\n",
    "            \"number\" : 70,\n",
    "            \"province\" : \"Jawa Jawa\"\n",
    "        },\n",
    "        \"isMarried\" : True,\n",
    "        \"hobbies\" : [\"PK\", \"PM\"]\n",
    "}\n",
    "]\n",
    "print(studentList[0])\n",
    "print(studentList[1])\n",
    "print(studentList[1][\"address\"][\"province\"])\n"
   ]
  },
  {
   "cell_type": "code",
   "execution_count": 88,
   "id": "875d8c00-d559-43b3-a736-8e6cb7978c2d",
   "metadata": {},
   "outputs": [
    {
     "name": "stdout",
     "output_type": "stream",
     "text": [
      "{'Name': 'Gidzan', 'Age': 50, 'Status': True}\n",
      "{'Name': 'Rusdi', 'Adress': 'Ngawi'}\n",
      "{'Name': 'Lion', 'Type': 'Mamalia'}\n",
      "{'Name': 'Crocodile', 'Type': 'Reptile'}\n",
      "{'Vehicle': 'Car', 'Brand': 'Lamborgini', 'DD': 3500}\n"
     ]
    }
   ],
   "source": [
    "## No 6\n",
    "\n",
    "#Konversi Dictionary\n",
    "\n",
    "list_list = [[\"Name\",\"Gidzan\"],[\"Age\",50],[\"Status\",True]]\n",
    "dictListStudent = dict(list_list)\n",
    "print(dictListStudent)\n",
    "\n",
    "list_tuple = [(\"Name\",\"Rusdi\"),(\"Adress\",\"Ngawi\")]\n",
    "dictTupleStudent = dict(list_tuple)\n",
    "print(dictTupleStudent)\n",
    "\n",
    "tuple_list = ([\"Name\",\"Lion\"],[\"Type\",\"Mamalia\"])\n",
    "dictListAnimal = dict(tuple_list)\n",
    "print(dictListAnimal)\n",
    "\n",
    "tuple_tuple = ((\"Name\",\"Crocodile\"),(\"Type\",\"Reptile\"))\n",
    "dictTupleAnimal = dict(tuple_tuple)\n",
    "print(dictTupleAnimal)\n",
    "\n",
    "keys = [\"Vehicle\",\"Brand\",\"DD\"]\n",
    "values = [\"Car\",\"Lamborgini\",3500]\n",
    "car = dict(zip(keys,values))\n",
    "print(car)"
   ]
  },
  {
   "cell_type": "code",
   "execution_count": null,
   "id": "ddef9037-9138-47c5-a22b-c1859ea7105e",
   "metadata": {},
   "outputs": [],
   "source": []
  }
 ],
 "metadata": {
  "kernelspec": {
   "display_name": "Python [conda env:base] *",
   "language": "python",
   "name": "conda-base-py"
  },
  "language_info": {
   "codemirror_mode": {
    "name": "ipython",
    "version": 3
   },
   "file_extension": ".py",
   "mimetype": "text/x-python",
   "name": "python",
   "nbconvert_exporter": "python",
   "pygments_lexer": "ipython3",
   "version": "3.12.7"
  }
 },
 "nbformat": 4,
 "nbformat_minor": 5
}
