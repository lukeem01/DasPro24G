{
 "cells": [
  {
   "cell_type": "code",
   "execution_count": 3,
   "id": "4780a67e-3448-468a-b318-8ed218e0e93b",
   "metadata": {},
   "outputs": [
    {
     "ename": "ModuleNotFoundError",
     "evalue": "No module named 'aritmatika'",
     "output_type": "error",
     "traceback": [
      "\u001b[1;31m---------------------------------------------------------------------------\u001b[0m",
      "\u001b[1;31mModuleNotFoundError\u001b[0m                       Traceback (most recent call last)",
      "Cell \u001b[1;32mIn[3], line 1\u001b[0m\n\u001b[1;32m----> 1\u001b[0m \u001b[38;5;28;01mimport\u001b[39;00m \u001b[38;5;21;01maritmatika\u001b[39;00m\u001b[38;5;21;01m.\u001b[39;00m\u001b[38;5;21;01mmath\u001b[39;00m \u001b[38;5;28;01mas\u001b[39;00m \u001b[38;5;21;01mmath\u001b[39;00m\n\u001b[0;32m      3\u001b[0m num1 \u001b[38;5;241m=\u001b[39m \u001b[38;5;28mint\u001b[39m(\u001b[38;5;28minput\u001b[39m(\u001b[38;5;124m\"\u001b[39m\u001b[38;5;124mAngka 1:\u001b[39m\u001b[38;5;124m\"\u001b[39m))\n\u001b[0;32m      4\u001b[0m num2 \u001b[38;5;241m=\u001b[39m \u001b[38;5;28mint\u001b[39m(\u001b[38;5;28minput\u001b[39m(\u001b[38;5;124m\"\u001b[39m\u001b[38;5;124mAngka 2:\u001b[39m\u001b[38;5;124m\"\u001b[39m))\n",
      "\u001b[1;31mModuleNotFoundError\u001b[0m: No module named 'aritmatika'"
     ]
    }
   ],
   "source": [
    "import aritmatika.math as math\n",
    "\n",
    "num1 = int(input(\"Angka 1:\"))\n",
    "num2 = int(input(\"Angka 2:\"))\n",
    "\n",
    "r1 = math.add(num1,num2)\n",
    "r2 = math.multiply(num1,num2)\n",
    "r3 = math.pow(num1,num2)\n",
    "\n",
    "print(f\"{num1} + {num2} : {r1}\")\n",
    "print(f\"{num1} * {num2} : {r2}\")\n",
    "print(f\"{num1} ^ {num2} : {r3}\")"
   ]
  },
  {
   "cell_type": "code",
   "execution_count": null,
   "id": "2a98e97a-5d36-4ec2-adb1-cacddd3dd1d0",
   "metadata": {},
   "outputs": [],
   "source": [
    "rom konversi.convert import cmToMeter, meterToCm\n",
    "\n",
    "panjang = int(input(\"Masukan Panjang : \"))\n",
    "hasil = cmToMeter(panjang)\n",
    "hasil1 = meterToCm(panjang)\n",
    "print(f\"{panjang} CM sama dengan {hasil} M\")\n",
    "print(f\"{panjang} M sama dengan {hasil1} CM\")"
   ]
  }
 ],
 "metadata": {
  "kernelspec": {
   "display_name": "Python [conda env:base] *",
   "language": "python",
   "name": "conda-base-py"
  },
  "language_info": {
   "codemirror_mode": {
    "name": "ipython",
    "version": 3
   },
   "file_extension": ".py",
   "mimetype": "text/x-python",
   "name": "python",
   "nbconvert_exporter": "python",
   "pygments_lexer": "ipython3",
   "version": "3.12.7"
  }
 },
 "nbformat": 4,
 "nbformat_minor": 5
}
