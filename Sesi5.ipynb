{
 "cells": [
  {
   "cell_type": "code",
   "execution_count": 8,
   "id": "56ada996-745c-4393-bccb-36e0cbe484a6",
   "metadata": {
    "scrolled": true
   },
   "outputs": [
    {
     "name": "stdin",
     "output_type": "stream",
     "text": [
      "Masukkan nama anda lqman\n"
     ]
    },
    {
     "name": "stdout",
     "output_type": "stream",
     "text": [
      "Selamat datang lqman\n",
      "Selamat datang  lqman\n",
      "Selamat datang Andi Selamat datang Budi Selamat dayang Dina\n",
      "Anggur |Apel |Semangka \n"
     ]
    }
   ],
   "source": [
    "name = input(\"Masukkan nama anda\")\n",
    "print(\"Selamat datang\",name)\n",
    "\n",
    "print(\"Selamat datang \",name)\n",
    "\n",
    "print(\"Selamat datang Andi \", end='')\n",
    "print(\"Selamat datang Budi \", end='')\n",
    "print(\"Selamat datang Dina\")\n",
    "print(\"Anggur \", \"Apel \",\"Semangka \",sep='|')"
   ]
  },
  {
   "cell_type": "code",
   "execution_count": null,
   "id": "c56e7cb2-59f9-4750-9870-57e275d50a4d",
   "metadata": {},
   "outputs": [],
   "source": []
  },
  {
   "cell_type": "code",
   "execution_count": 15,
   "id": "0211c9c3-1c76-471a-b4a6-8aaaf8bec4ee",
   "metadata": {},
   "outputs": [
    {
     "name": "stdin",
     "output_type": "stream",
     "text": [
      "Masukan bilangan 1:  90\n",
      "Masukan bilangan 2:  9\n"
     ]
    },
    {
     "name": "stdout",
     "output_type": "stream",
     "text": [
      "Hasil penjumlahan 9 + 90 = 99\n"
     ]
    }
   ],
   "source": [
    "#String Format\n",
    "\n",
    "val1 = int(input(\"Masukan bilangan 1: \"))\n",
    "val2 = int(input(\"Masukan bilangan 2: \"))\n",
    "result = val1 + val2\n",
    "\n",
    "print(\"Hasil penjumlahan {} + {} = {}\".format(val2,val1,result))"
   ]
  },
  {
   "cell_type": "code",
   "execution_count": null,
   "id": "2a1e3f40-c5b5-4feb-872f-7ec79d36db12",
   "metadata": {},
   "outputs": [],
   "source": []
  },
  {
   "cell_type": "code",
   "execution_count": 31,
   "id": "70111988-7d8b-4621-a859-6e838cf77e40",
   "metadata": {},
   "outputs": [
    {
     "name": "stdin",
     "output_type": "stream",
     "text": [
      "Masukan Nama Awal : Luqman \n",
      "Masukan Nama Tengah : Sangat \n",
      "Masukan Nama Akhir : Anjay \n"
     ]
    },
    {
     "name": "stdout",
     "output_type": "stream",
     "text": [
      "Nama Lengkap : Luqman Sangat Anjay \n",
      "Nama Lengkap anda : Ucpu Apay Andi \n"
     ]
    }
   ],
   "source": [
    "# String Index\n",
    "\n",
    "fName = input(\"Masukan Nama Awal :\")\n",
    "mName = input(\"Masukan Nama Tengah :\")\n",
    "lName = input(\"Masukan Nama Akhir :\")\n",
    "\n",
    "print(\"Nama Lengkap : {0}{1}{2}\".format(fName, mName, lName))\n",
    "\n",
    "#Key\n",
    "print(\"Nama Lengkap anda : {depan}{tengah}{belakang}\".format(belakang='Andi ', depan='Ucpu ', tengah='Apay '))"
   ]
  },
  {
   "cell_type": "code",
   "execution_count": null,
   "id": "53b8c8b7-fb35-4c03-a461-f709d6174b11",
   "metadata": {},
   "outputs": [],
   "source": []
  },
  {
   "cell_type": "code",
   "execution_count": 46,
   "id": "3c1fd9e2-3dec-457d-9460-93b6a18518e5",
   "metadata": {},
   "outputs": [
    {
     "name": "stdin",
     "output_type": "stream",
     "text": [
      "Isikan NIM Anda:  20240040073\n",
      "Masukan Kata palindrom WAKAW\n"
     ]
    },
    {
     "name": "stdout",
     "output_type": "stream",
     "text": [
      "Tahun Masuk : 2024\n",
      "ID Prodi : 004\n",
      "Prodi : Teknik Informatika\n",
      "No.Urut Mahasiswa : 0073\n",
      "Angka NIM yang paling akhir : 3\n",
      "NIM setelah direverse : 37004004202\n",
      "Palindrom : WAKAW\n"
     ]
    }
   ],
   "source": [
    "#Slicing \n",
    "\n",
    "nim = input(\"Isikan NIM Anda: \")\n",
    "\n",
    "tahun = nim[0:4]\n",
    "idprodi = nim[4:7]\n",
    "prodi = \"Teknik Informatika\" if idprodi==\"004\" else \"Tidak Kece\"\n",
    "nomrut = nim[7:]\n",
    "palindrom = input(\"Masukan Kata palindrom\")\n",
    "#print menggunakan FString\n",
    "print(f\"Tahun Masuk : {tahun}\")\n",
    "print(f\"ID Prodi : {idprodi}\")\n",
    "print(f\"Prodi : {prodi}\")\n",
    "print(f\"No.Urut Mahasiswa : {nomrut}\")\n",
    "print(f\"Angka NIM yang paling akhir : {nim[-1]}\")\n",
    "print(f\"NIM setelah direverse : {nim[::-1]}\")\n",
    "print(f\"Palindrom : {palindrom[::-1]}\")"
   ]
  },
  {
   "cell_type": "code",
   "execution_count": null,
   "id": "fbe96780-5c0f-4238-9b9b-286b13901c2c",
   "metadata": {},
   "outputs": [],
   "source": []
  },
  {
   "cell_type": "code",
   "execution_count": 54,
   "id": "182c3d85-b735-4fd8-a184-e9804e2131a3",
   "metadata": {},
   "outputs": [
    {
     "name": "stdout",
     "output_type": "stream",
     "text": [
      "Luqman\n",
      "itu\n",
      "Sangat\n",
      "Ganteng\n",
      "dan\n",
      "menawan\n",
      "-1\n"
     ]
    }
   ],
   "source": [
    "# Fungsi String\n",
    "# Split -> untuk memisahkan string berdasarkan karakter\n",
    "kalimat = \"Luqman itu Sangat Ganteng dan menawan\"\n",
    "kata = kalimat.split(' ')\n",
    "print(kata[0])\n",
    "print(kata[1])\n",
    "print(kata[2])\n",
    "print(kata[3])\n",
    "print(kata[4])\n",
    "print(kata[5])\n",
    "\n",
    "# Find -> akan menghasilkan posisi/indeks dari sebuah karakter (jika ditemukan)\n",
    "# Fint -> akan bernilai -1 jika tidak ditemukan\n",
    "platmotor = \"M3M3K3N4K\"\n",
    "print(platmotor.find(\"Z\"))"
   ]
  },
  {
   "cell_type": "code",
   "execution_count": null,
   "id": "6857dbda-6954-4db8-bbb5-ea547946d32a",
   "metadata": {},
   "outputs": [],
   "source": []
  },
  {
   "cell_type": "code",
   "execution_count": 61,
   "id": "73ef031e-1487-4e4e-b0b4-3df6883c49a8",
   "metadata": {},
   "outputs": [
    {
     "name": "stdin",
     "output_type": "stream",
     "text": [
      "Masukan Email Anda :  hajimansur.com\n"
     ]
    },
    {
     "name": "stdout",
     "output_type": "stream",
     "text": [
      "Email anda : Tidak Valid\n"
     ]
    }
   ],
   "source": [
    "# validasi email\n",
    "email = input(\"Masukan Email Anda : \")\n",
    "at = email.find(\"@\")\n",
    "dot = email.find(\".\")\n",
    "result = \"Valid\" if at >=0 and at < dot else \"Tidak Valid\"\n",
    "print(f\"Email anda : {result}\")"
   ]
  },
  {
   "cell_type": "code",
   "execution_count": null,
   "id": "b071f46d-4cfa-4988-87aa-b5ff2ccb8bf9",
   "metadata": {},
   "outputs": [],
   "source": []
  },
  {
   "cell_type": "code",
   "execution_count": 81,
   "id": "c8b74b48-9f46-4cdb-b7fb-ea2c27335408",
   "metadata": {},
   "outputs": [
    {
     "name": "stdout",
     "output_type": "stream",
     "text": [
      "0.5374720033964342\n",
      "425\n",
      "May\n",
      "['Sun', 7]\n"
     ]
    }
   ],
   "source": [
    "import random as rand\n",
    "nilai = rand.random() #Bilangan Float 0 - 1\n",
    "print(nilai)\n",
    "\n",
    "nilaiInt = rand.randint(1,1000)\n",
    "print(nilaiInt)\n",
    "\n",
    "month = [\"Jan\",\"Feb\",\"March\",\"Apr\",\"May\",\"Jun\",\"Jul\",\"Aug\",\"Sept\",\"Oct\",\"Nov\",\"Dec\"]\n",
    "cMont = rand.choice(month)\n",
    "print(cMont)\n",
    "\n",
    "day = [[\"Mon\",1],[\"Tue\",2],[\"Wed\",3],[\"Thu\",4],[\"Fri\",5],[\"Sat\",6],[\"Sun\",7]]\n",
    "cDay = rand.choice(day)\n",
    "print(cDay)"
   ]
  },
  {
   "cell_type": "code",
   "execution_count": null,
   "id": "122760b7-3b79-44bb-aa75-c288a6170df9",
   "metadata": {},
   "outputs": [],
   "source": []
  },
  {
   "cell_type": "code",
   "execution_count": 92,
   "id": "fd1ea082-f751-4ad8-8508-d39acf669dfd",
   "metadata": {},
   "outputs": [
    {
     "name": "stdout",
     "output_type": "stream",
     "text": [
      "Bahasa inggris dari Main adalah\n"
     ]
    },
    {
     "name": "stdin",
     "output_type": "stream",
     "text": [
      " run\n"
     ]
    },
    {
     "name": "stdout",
     "output_type": "stream",
     "text": [
      "Anda Salah\n"
     ]
    }
   ],
   "source": [
    "import random as R\n",
    "kKamus = [[\"minum\",\"drink\"],[\"tidur\",\"sleep\"],[\"Main\",\"play\"],[\"bola\",\"ball\"]]\n",
    "ckKamus = R.choice(kKamus)\n",
    "print(\"Bahasa inggris dari\",ckKamus[0],\"adalah\")\n",
    "jawab = input()\n",
    "result = \"Anda Benar\" if jawab == ckKamus[1] else \"Anda Salah\"\n",
    "print(result)"
   ]
  },
  {
   "cell_type": "code",
   "execution_count": 100,
   "id": "9e0881a2-88cc-4181-8377-52078e3884c9",
   "metadata": {},
   "outputs": [
    {
     "name": "stdout",
     "output_type": "stream",
     "text": [
      "Pilih mode:\n",
      "1. Indonesia ke Inggris\n",
      "2. Inggris ke Indonesia\n"
     ]
    },
    {
     "name": "stdin",
     "output_type": "stream",
     "text": [
      "Masukkan pilihan (1/2):  3\n"
     ]
    },
    {
     "name": "stdout",
     "output_type": "stream",
     "text": [
      "Milih naon kocak!\n"
     ]
    }
   ],
   "source": [
    "import random as R\n",
    "\n",
    "kKamus = [[\"makan\", \"eat\"], [\"minum\", \"drink\"], [\"tidur\", \"sleep\"], [\"mobil\", \"car\"],[\"kursi\",\"chair\"]]\n",
    "\n",
    "print(\"Pilih mode:\")\n",
    "print(\"1. Indonesia ke Inggris\")\n",
    "print(\"2. Inggris ke Indonesia\")\n",
    "mode = input(\"Masukkan pilihan (1/2): \")\n",
    "\n",
    "ckKamus = R.choice(kKamus)\n",
    "\n",
    "if mode == \"1\":\n",
    "    print(\"Bahasa Inggris dari\", ckKamus[0], \"adalah\")\n",
    "    jawab = input().strip().lower()\n",
    "    result = \"Anda Benar\" if jawab == ckKamus[1] else \"Anda Salah\"\n",
    "    print(result)\n",
    "\n",
    "elif mode == \"2\":\n",
    "    print(\"Bahasa Indonesia dari\", ckKamus[1], \"adalah\")\n",
    "    jawab = input().strip().lower()\n",
    "    result = \"Anda Benar\" if jawab == ckKamus[0] else \"Anda Salah\"\n",
    "    print(result)\n",
    "\n",
    "else:\n",
    "    print(\"Milih naon kocak!\")"
   ]
  },
  {
   "cell_type": "code",
   "execution_count": 102,
   "id": "40568a45-4455-4974-a6ea-e39ef4655767",
   "metadata": {},
   "outputs": [
    {
     "name": "stdout",
     "output_type": "stream",
     "text": [
      "30\n"
     ]
    }
   ],
   "source": [
    "a = 20\n",
    "b = 10\n",
    "print(a + b)"
   ]
  },
  {
   "cell_type": "code",
   "execution_count": null,
   "id": "b152d034-430d-41e4-bb7e-cf33400dacae",
   "metadata": {},
   "outputs": [],
   "source": []
  }
 ],
 "metadata": {
  "kernelspec": {
   "display_name": "Python [conda env:base] *",
   "language": "python",
   "name": "conda-base-py"
  },
  "language_info": {
   "codemirror_mode": {
    "name": "ipython",
    "version": 3
   },
   "file_extension": ".py",
   "mimetype": "text/x-python",
   "name": "python",
   "nbconvert_exporter": "python",
   "pygments_lexer": "ipython3",
   "version": "3.12.7"
  }
 },
 "nbformat": 4,
 "nbformat_minor": 5
}
