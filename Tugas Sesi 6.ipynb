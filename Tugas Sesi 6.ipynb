{
 "cells": [
  {
   "cell_type": "markdown",
   "id": "e6d11682-4d07-4a56-b4ab-f672ee2e5486",
   "metadata": {},
   "source": [
    "<h3>No 1</h3>"
   ]
  },
  {
   "cell_type": "code",
   "execution_count": 3,
   "id": "96f20eda-a250-44cf-ad01-91364ef6725d",
   "metadata": {},
   "outputs": [
    {
     "name": "stdin",
     "output_type": "stream",
     "text": [
      "Masukan Nama Luqman\n",
      "Masukana NIM 20240040073\n",
      "Masukan Kelas TI24G\n"
     ]
    },
    {
     "name": "stdout",
     "output_type": "stream",
     "text": [
      "Nama: Luqman NIM: 20240040073 Kelas: TI24G\n"
     ]
    }
   ],
   "source": [
    "nama = input(\"Masukan Nama\")\n",
    "nim = input(\"Masukana NIM\")\n",
    "kelas =input(\"Masukan Kelas\")\n",
    "print(f\"Nama: {nama} NIM: {nim} Kelas: {kelas}\")"
   ]
  },
  {
   "cell_type": "markdown",
   "id": "dacc5798-0d32-48f0-99a1-8a3367b67731",
   "metadata": {},
   "source": [
    "<h3>No 2</h3>"
   ]
  },
  {
   "cell_type": "code",
   "execution_count": 8,
   "id": "28e20359-1f89-46a6-837a-57e78972b291",
   "metadata": {},
   "outputs": [
    {
     "name": "stdout",
     "output_type": "stream",
     "text": [
      "A. putra nusa\n",
      "B. NIVERSITAS NSA PTRA SKABMI\n",
      "C. SUKABUMI PUTRA NUSA UNIVERSITAS\n",
      "D. UNPS\n",
      "E. TAS SAPU BUMI\n"
     ]
    }
   ],
   "source": [
    "kalimat = \"UNIVERSITAS NUSA PUTRA SUKABUMI\"\n",
    "kata =kalimat.split(' ')\n",
    "print(\"A.\",kata[2].lower(),kata[1].lower())\n",
    "print(\"B.\",kalimat.replace(\"U\",\"\"))\n",
    "print(\"C.\",kata[3],kata[2],kata[1],kata[0])\n",
    "print(\"D.\",kata[0][0]+kata[1][0]+kata[2][0]+kata[3][0])\n",
    "print(\"E.\",kata[0][-3:], kata[1][-2:]+kata[2][:2],kata[3][-4:])"
   ]
  },
  {
   "cell_type": "code",
   "execution_count": null,
   "id": "9c653999-a387-43f6-abbe-76d165cf1a39",
   "metadata": {},
   "outputs": [],
   "source": []
  }
 ],
 "metadata": {
  "kernelspec": {
   "display_name": "Python [conda env:base] *",
   "language": "python",
   "name": "conda-base-py"
  },
  "language_info": {
   "codemirror_mode": {
    "name": "ipython",
    "version": 3
   },
   "file_extension": ".py",
   "mimetype": "text/x-python",
   "name": "python",
   "nbconvert_exporter": "python",
   "pygments_lexer": "ipython3",
   "version": "3.12.7"
  }
 },
 "nbformat": 4,
 "nbformat_minor": 5
}
