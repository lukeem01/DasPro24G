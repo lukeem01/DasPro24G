{
 "cells": [
  {
   "cell_type": "code",
   "execution_count": null,
   "id": "9149e97b-a0e2-4b70-870a-2257434d4887",
   "metadata": {},
   "outputs": [
    {
     "name": "stdout",
     "output_type": "stream",
     "text": [
      "Masukan umur pengunjung 4\n",
      "Masukan umur pengunjung 4\n",
      "Masukan umur pengunjung 4\n"
     ]
    },
    {
     "name": "stdout",
     "output_type": "stream",
     "text": [
      "Kategori : Anak-Anak dengan harga : 10000\n",
      "Kategori : Anak-Anak dengan harga : 10000\n",
      "Kategori : Anak-Anak dengan harga : 10000 \n",
      "Total harga 30000\n"
     ]
    }
   ],
   "source": [
    "tiket1 = int(input(\"Masukan umur pengunjung\"))\n",
    "tiket2 = int(input(\"Masukan umur pengunjung\"))\n",
    "tiket3 = int(input(\"Masukan umur pengunjung\"))\n",
    "if tiket1 >= 60 :\n",
    "    kategori = \"Lansia\"\n",
    "    harga = 0\n",
    "elif tiket1 >= 18 :\n",
    "    kategori = \"Dewasa\"\n",
    "    harga= 25000\n",
    "elif tiket1 >= 13 :\n",
    "    kategori = \"Remaja\"\n",
    "    harga= 15000\n",
    "elif tiket1 >=0 :\n",
    "    kategori = \"Anak-Anak\"\n",
    "    harga =  10000\n",
    "else : \n",
    "    kategori = \"TIDAK VADIL\"\n",
    "print(f\"Kategori : {kategori} dengan harga : {harga}\")\n",
    "total =harga\n",
    "\n",
    "if tiket2 >= 60 :\n",
    "    kategori = \"Lansia\"\n",
    "    harga = 0\n",
    "elif tiket2 >= 18 :\n",
    "    kategori = \"Dewasa\"\n",
    "    harga= 25000\n",
    "elif tiket2 >= 13 :\n",
    "    kategori = \"Remaja\"\n",
    "    harga= 15000\n",
    "elif tiket2 >=0 :\n",
    "    kategori = \"Anak-Anak\"\n",
    "    harga =  10000\n",
    "else : \n",
    "    kategori = \"TIDAK VADIL\"\n",
    "print(f\"Kategori : {kategori} dengan harga : {harga}\")\n",
    "total +=harga\n",
    "\n",
    "if tiket3 >= 60 :\n",
    "    kategori = \"Lansia\"\n",
    "    harga = 0\n",
    "elif tiket3 >= 18 :\n",
    "    kategori = \"Dewasa\"\n",
    "    harga= 25000\n",
    "elif tiket3 >= 13 :\n",
    "    kategori = \"Remaja\"\n",
    "    harga= 15000\n",
    "elif tiket3 >=0 :\n",
    "    kategori = \"Anak-Anak\"\n",
    "    harga =  10000\n",
    "else : \n",
    "    kategori = \"TIDAK VADIL\"\n",
    "total +=harga\n",
    "print(f\"Kategori : {kategori} dengan harga : {harga} \")\n",
    "print(f\"Total harga {total}\")"
   ]
  },
  {
   "cell_type": "code",
   "execution_count": null,
   "id": "74059086-7ea8-4c7b-bcf1-10f55f81e2a1",
   "metadata": {},
   "outputs": [
    {
     "name": "stdout",
     "output_type": "stream",
     "text": [
      "Isikan pembayaran UKT : 9000000\n",
      "Masukan  nilai rapor : 90\n",
      "Penghasilan orang tua : 7000000\n"
     ]
    },
    {
     "name": "stdout",
     "output_type": "stream",
     "text": [
      "Beasiswa 50% Pembayaran UKT: 4500000.0\n"
     ]
    }
   ],
   "source": [
    "ukt = int(input(\"Isikan pembayaran UKT :\"))\n",
    "nilai = int(input(\"Masukan  nilai rapor :\"))\n",
    "penghasilan = int(input(\"Penghasilan orang tua :\"))\n",
    "if nilai >= 90 :\n",
    "    if penghasilan <= 5000000:\n",
    "        keterangan = \"Beasiswa 100%\"\n",
    "        ukt *= 0\n",
    "if nilai >= 85 :\n",
    "    if penghasilan <=8000000 :\n",
    "        keterangan = \"Beasiswa 50%\"\n",
    "        ukt*= 1/2\n",
    "else :\n",
    "    keterangan = \"Tidak mendapat beasiswa\"\n",
    "\n",
    "print(f\"{keterangan} Pembayaran UKT: {ukt}\")"
   ]
  },
  {
   "cell_type": "code",
   "execution_count": null,
   "id": "100f9895-404a-4b11-b802-e1aacfba034d",
   "metadata": {},
   "outputs": [
    {
     "name": "stdout",
     "output_type": "stream",
     "text": [
      "Jenis Kendaraan mobil\n",
      "Masukan jam masuk 1\n",
      "Masukan jam keluar 9\n"
     ]
    },
    {
     "name": "stdout",
     "output_type": "stream",
     "text": [
      "Total harga parkir 50000\n"
     ]
    }
   ],
   "source": [
    "jenis = input(\"Jenis Kendaraan\")\n",
    "JamMasuk = int(input(\"Masukan jam masuk\"))\n",
    "JamKeluar = int(input(\"Masukan jam keluar\"))\n",
    "tambahan = 0\n",
    "if JamMasuk >= JamKeluar:\n",
    "    print(\"input tidak valid\")\n",
    "else :\n",
    "    if jenis == \"mobil\" :\n",
    "        harga =5000\n",
    "    elif jenis == \"motor\":\n",
    "        harga =2000\n",
    "    else :\n",
    "        print(\"Jenis kendaraan tidak ada\")\n",
    "lama = JamKeluar - JamMasuk\n",
    "if lama > 5 :\n",
    "    tambahan = 10000\n",
    "total = harga*lama + tambahan\n",
    "print(f\"Total harga parkir {total}\")"
   ]
  },
  {
   "cell_type": "code",
   "execution_count": null,
   "id": "1ef0c2dd-546e-4935-a5e9-8ee308cb2863",
   "metadata": {},
   "outputs": [
    {
     "name": "stdout",
     "output_type": "stream",
     "text": [
      "Masukan nomor punggung anda 70\n"
     ]
    },
    {
     "name": "stdout",
     "output_type": "stream",
     "text": [
      "Nomor punggung 70 mendapat posisi Targer Attacker dan berhak dipilih menjadi kapten tim\n"
     ]
    }
   ],
   "source": [
    "nomor = int(input(\"Masukan nomor punggung anda\"))\n",
    "kapten = \" \"\n",
    "if nomor % 2 == 0 :\n",
    "    posisi = \"Targer Attacker\"\n",
    "    if nomor >= 50 and nomor <=100 :\n",
    "        kapten = \"dan berhak dipilih menjadi kapten tim\"\n",
    "else :\n",
    "    posisi = \"Defender\"\n",
    "    if nomor >= 90 :\n",
    "        posisi = \"Playmaker\"\n",
    "    elif nomor % 3==0 and nomor % 5==0:\n",
    "        posisi = \"Keeper\"\n",
    "print(f\"Nomor punggung {nomor} mendapat posisi {posisi} {kapten}\")"
   ]
  }
 ],
 "metadata": {
  "kernelspec": {
   "display_name": "Python [conda env:base] *",
   "language": "python",
   "name": "conda-base-py"
  },
  "language_info": {
   "codemirror_mode": {
    "name": "ipython",
    "version": 3
   },
   "file_extension": ".py",
   "mimetype": "text/x-python",
   "name": "python",
   "nbconvert_exporter": "python",
   "pygments_lexer": "ipython3",
   "version": "3.12.7"
  }
 },
 "nbformat": 4,
 "nbformat_minor": 5
}
