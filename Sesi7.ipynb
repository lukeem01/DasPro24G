{
 "cells": [
  {
   "cell_type": "code",
   "execution_count": 10,
   "id": "71967f68-928f-4775-afd2-87f600ffe1f2",
   "metadata": {},
   "outputs": [
    {
     "name": "stdout",
     "output_type": "stream",
     "text": [
      "Nama buah : Apel\n",
      "Nama buah : Cau\n",
      "Nama buah : Melon\n",
      "Nama buah : Nanas\n",
      "Looping s\n"
     ]
    }
   ],
   "source": [
    "# Perulangan | Looping\n",
    "# For | While\n",
    "# for digunakan jika kita udah mengetahui batas awal dan batas akhir nya\n",
    "## Collection -> list, Tuple set, dictionary\n",
    "# for variabel in collection\n",
    "\n",
    "fruits = [\"Apel\",\"Cau\",\"Melon\", \"Nanas\"]\n",
    "for fruit in fruits :\n",
    "    print(f\"Nama buah : {fruit}\")\n",
    "print(\"Looping selesai\")\n"
   ]
  },
  {
   "cell_type": "code",
   "execution_count": null,
   "id": "28daeeeb-b472-449a-b4bf-1ed1ebcdfd0b",
   "metadata": {},
   "outputs": [],
   "source": []
  },
  {
   "cell_type": "code",
   "execution_count": 26,
   "id": "09bd0910-478e-4e32-8dd6-1b5d0848c2af",
   "metadata": {},
   "outputs": [
    {
     "name": "stdout",
     "output_type": "stream",
     "text": [
      "Nilai rata-rata pada nilai pemrograman TI24G adalah =  75.0\n",
      "Mahasiswa yang lulus = 3\n",
      "Mahasiswa yang tidak lulus = 3\n"
     ]
    }
   ],
   "source": [
    "#Hitung lah rata- rata dari nilai pemrograman TI24G\n",
    "pythonScore = [90,100,85,60,65,50]\n",
    "\n",
    "#1. Menghitung total jumlah nilai ~ didalam looping\n",
    "#2. Membagi dengan jumlah data ~ diluar looping\n",
    "#3. HItunglah mahasiswa yang lulus. >= 70+\n",
    "#4. Hitunglah mahawiswa yang tidak lulus <70\n",
    "total = 0\n",
    "lulus = 0\n",
    "for score in pythonScore:\n",
    "    if score >= 70 :\n",
    "        lulus +=1\n",
    "    total = total + score\n",
    "rata = total / len(pythonScore)\n",
    "nangis = len(pythonScore) - lulus\n",
    "print(\"Nilai rata-rata pada nilai pemrograman TI24G adalah = \",rata)\n",
    "print(f\"Mahasiswa yang lulus = {lulus}\")\n",
    "print(f\"Mahasiswa yang tidak lulus = {nangis}\")\n"
   ]
  },
  {
   "cell_type": "code",
   "execution_count": null,
   "id": "86a095f5-ae35-4064-a41b-6306f83c2774",
   "metadata": {},
   "outputs": [],
   "source": []
  },
  {
   "cell_type": "code",
   "execution_count": 40,
   "id": "5bc39f75-daf5-4e02-bcb3-d253d4f43a9f",
   "metadata": {},
   "outputs": [
    {
     "name": "stdin",
     "output_type": "stream",
     "text": [
      "Masukan Kalimat=  \n"
     ]
    },
    {
     "name": "stdout",
     "output_type": "stream",
     "text": [
      "Total huruf vokal pada kalimat 0\n"
     ]
    }
   ],
   "source": [
    "#Menghitung huruf Vokal (A,I,U,E,O)\n",
    "total = 0\n",
    "vokal = [\"a\",\"i\",\"u\",\"E\",\"O\"]\n",
    "sentences = input(\"Masukan Kalimat= \")\n",
    "for char in sentences:\n",
    "    if char.lower() in vokal:\n",
    "        total+=1\n",
    "print(f\"Total huruf vokal pada kalimat {total}\")"
   ]
  },
  {
   "cell_type": "code",
   "execution_count": null,
   "id": "5445d6e7-85f4-4e5a-9087-df1b2a058c13",
   "metadata": {},
   "outputs": [],
   "source": []
  },
  {
   "cell_type": "code",
   "execution_count": 52,
   "id": "c24e1b25-36de-4a59-a865-a0ad2f295143",
   "metadata": {},
   "outputs": [
    {
     "name": "stdout",
     "output_type": "stream",
     "text": [
      "[100, 400, 900, 1600, 2500]\n",
      "['Lulus', 'Lulus', 'Lulus', 'Jawa', 'Jawa', 'Jawa']\n"
     ]
    }
   ],
   "source": [
    "## List Comprehension\n",
    "data = [10,20,30,40,50]\n",
    "square = [x**2 for x in data]\n",
    "print(square)\n",
    "\n",
    "pythonScore = [90,100,85,60,65,50]\n",
    "passExam = [\"Lulus\" if x >= 70 else \"Jawa\" for x in pythonScore]\n",
    "print(passExam)"
   ]
  },
  {
   "cell_type": "code",
   "execution_count": null,
   "id": "b87e393a-297c-4a4c-8002-2111c8485005",
   "metadata": {},
   "outputs": [],
   "source": []
  },
  {
   "cell_type": "code",
   "execution_count": 73,
   "id": "fd8b1296-62c3-4ff5-9633-669cefe0abc1",
   "metadata": {},
   "outputs": [
    {
     "name": "stdout",
     "output_type": "stream",
     "text": [
      "1 : Jan\n",
      "2 : Feb\n",
      "3 : March\n",
      "4 : Apr\n",
      "5 : May\n",
      "6 : Jun\n",
      "7 : Jul\n",
      "8 : Aug\n",
      "9 : Sept\n",
      "10 : Oct\n",
      "11 : Nov\n",
      "12 : Dec\n"
     ]
    }
   ],
   "source": [
    "##Enumarate \n",
    "months = [\"Jan\",\"Feb\",\"March\",\"Apr\",\"May\",\"Jun\",\"Jul\",\"Aug\",\"Sept\",\"Oct\",\"Nov\",\"Dec\"]\n",
    "index = 0\n",
    "for index, month in enumerate(months) :\n",
    "    index += 1\n",
    "    print (f\"{index} : {month}\")"
   ]
  },
  {
   "cell_type": "code",
   "execution_count": null,
   "id": "426b8ad4-a2d2-4523-9ab0-5a1dbc47ddff",
   "metadata": {},
   "outputs": [],
   "source": []
  },
  {
   "cell_type": "code",
   "execution_count": 5,
   "id": "5f8135e1-3adf-4dad-92d0-a5fb982fc58a",
   "metadata": {},
   "outputs": [
    {
     "name": "stdout",
     "output_type": "stream",
     "text": [
      "Laki-laki di bioskop ada 4 orang\n",
      "Perempuan yang ada dibioskop ada 4 orang\n"
     ]
    }
   ],
   "source": [
    "# Menghitung Berapa Jumlah Laki-Laki dan Perempuan pada tempat duduk di bioskop\n",
    "laki = 0\n",
    "chairs = [\"L\",\"\",\"P\",\"L\",\"P\",\"L\",\"\",\"L\"]\n",
    "for gender in chairs :\n",
    "    if gender == \"L\" :\n",
    "        laki +=1\n",
    "aww = len(chairs) - laki\n",
    "print(f\"Laki-laki di bioskop ada {laki} orang\")\n",
    "print(f\"Perempuan yang ada dibioskop ada {aww} orang\")\n"
   ]
  },
  {
   "cell_type": "code",
   "execution_count": 31,
   "id": "768156e2-15a9-4396-9e5b-e4f4526063f0",
   "metadata": {},
   "outputs": [
    {
     "ename": "IndentationError",
     "evalue": "expected an indented block after 'if' statement on line 8 (2565728527.py, line 10)",
     "output_type": "error",
     "traceback": [
      "\u001b[1;36m  Cell \u001b[1;32mIn[31], line 10\u001b[1;36m\u001b[0m\n\u001b[1;33m    print(f\"Kumlah Cpule = \" {CP})\u001b[0m\n\u001b[1;37m                                  ^\u001b[0m\n\u001b[1;31mIndentationError\u001b[0m\u001b[1;31m:\u001b[0m expected an indented block after 'if' statement on line 8\n"
     ]
    }
   ],
   "source": [
    "# Buatlah program untuk mencari pasangan couple (P&L) jika P = perempuan dan L = laki-laki, dengan data dibawah ini\n",
    "chairs = [\"L\",\"\",\"P\",\"L\",\"P\",\"L\",\"\",\"P\"]\n",
    "CP = 0\n",
    "for index, chair in enumerate(chairs):\n",
    "    CP+=1\n",
    "    if index < len(chairs) -1 :\n",
    "        if chairs [index] != \"\" and chairs[index+1] != \"\" :\n",
    "            if chairs[index] != chairs[index +1]:\n",
    "\n",
    "print(f\"Kumlah Cpule = \" {CP})"
   ]
  },
  {
   "cell_type": "code",
   "execution_count": 11,
   "id": "00db46d1-65a5-4704-9ec6-34f46f52ab45",
   "metadata": {},
   "outputs": [
    {
     "name": "stdout",
     "output_type": "stream",
     "text": [
      "Jumlah pasangan couple (P & L): 3\n"
     ]
    }
   ],
   "source": [
    "chairs = [\"L\", \" \", \"P\", \"L\", \"P\", \"L\", \" \", \"P\"]\n",
    "\n",
    "def count_couples(chairs):\n",
    "    count = 0\n",
    "    for i in range(len(chairs) - 1):\n",
    "        # Mengecek apakah pasangan P & L atau L & P ditemukan secara berurutan\n",
    "        if (chairs[i] == \"P\" and chairs[i + 1] == \"L\") or (chairs[i] == \"L\" and chairs[i + 1] == \"P\"):\n",
    "            count += 1\n",
    "    return count\n",
    "\n",
    "couples_count = count_couples(chairs)\n",
    "print(\"Jumlah pasangan couple (P & L):\", couples_count)"
   ]
  },
  {
   "cell_type": "code",
   "execution_count": null,
   "id": "71525b05-9bc4-4d70-abb3-f447ec0b5745",
   "metadata": {},
   "outputs": [],
   "source": []
  },
  {
   "cell_type": "code",
   "execution_count": 40,
   "id": "559291af-aa61-4b6a-8f68-448cf65bf031",
   "metadata": {},
   "outputs": [
    {
     "name": "stdin",
     "output_type": "stream",
     "text": [
      "Masukan BIlangan =  5\n"
     ]
    },
    {
     "name": "stdout",
     "output_type": "stream",
     "text": [
      "5! = 120\n"
     ]
    }
   ],
   "source": [
    "#Faktorial\n",
    "# 5! = 5*4*3*2*1 = 120\n",
    "\n",
    "total = 1 \n",
    "number = int(input(\"Masukan BIlangan = \"))\n",
    "for i in range(1,number+1):\n",
    "    total*= i\n",
    "print(f\"{number}! = {total}\")"
   ]
  },
  {
   "cell_type": "code",
   "execution_count": null,
   "id": "ee65cfe1-280f-4a3f-b0c4-01047a1b4bab",
   "metadata": {},
   "outputs": [],
   "source": []
  },
  {
   "cell_type": "code",
   "execution_count": 45,
   "id": "ea6032ac-633f-4292-a7db-b5314668e101",
   "metadata": {},
   "outputs": [
    {
     "name": "stdin",
     "output_type": "stream",
     "text": [
      "Masukan Bilangan 10\n"
     ]
    },
    {
     "name": "stdout",
     "output_type": "stream",
     "text": [
      "10 bukan bilangan prima\n"
     ]
    }
   ],
   "source": [
    "## Cek Bilagngan Prima \n",
    "number = int(input(\"Masukan Bilangan\"))\n",
    "faktor = 0\n",
    "for i in range(1,number+1) :\n",
    "    if number % i==0:\n",
    "        faktor+1\n",
    "if faktor ==2:\n",
    "    print(f\"{number} adalah bilangan prima\")\n",
    "else:\n",
    "    print(f\"{number} bukan bilangan prima\")"
   ]
  },
  {
   "cell_type": "code",
   "execution_count": null,
   "id": "bc06ad81-7e05-4082-a886-39f4f0e38604",
   "metadata": {},
   "outputs": [],
   "source": []
  },
  {
   "cell_type": "code",
   "execution_count": 50,
   "id": "9d53ab47-c7b7-45d6-959f-d719b9aecc3c",
   "metadata": {},
   "outputs": [
    {
     "name": "stdout",
     "output_type": "stream",
     "text": [
      "1  -2  3  -4  5  -6  7  -8  9  -10  "
     ]
    }
   ],
   "source": [
    "# 1 -2 3 -4 5 -6 7 -8 9 -10\n",
    "sign = 1\n",
    "for i in range(1,11):\n",
    "    result = sign * i\n",
    "    print(result,\" \", end='')\n",
    "    sign = sign * -1"
   ]
  },
  {
   "cell_type": "code",
   "execution_count": null,
   "id": "91f7fa67-f0df-4e64-9ca9-af14b7956b52",
   "metadata": {},
   "outputs": [],
   "source": []
  }
 ],
 "metadata": {
  "kernelspec": {
   "display_name": "Python [conda env:base] *",
   "language": "python",
   "name": "conda-base-py"
  },
  "language_info": {
   "codemirror_mode": {
    "name": "ipython",
    "version": 3
   },
   "file_extension": ".py",
   "mimetype": "text/x-python",
   "name": "python",
   "nbconvert_exporter": "python",
   "pygments_lexer": "ipython3",
   "version": "3.12.7"
  }
 },
 "nbformat": 4,
 "nbformat_minor": 5
}
